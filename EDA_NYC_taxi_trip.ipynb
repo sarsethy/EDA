{
 "cells": [
  {
   "cell_type": "code",
   "execution_count": 1,
   "metadata": {},
   "outputs": [],
   "source": [
    "import pandas as pd\n",
    "import numpy as np\n",
    "import matplotlib.pyplot as plt\n",
    "import seaborn as sns\n",
    "from datetime import datetime\n",
    "import math"
   ]
  },
  {
   "cell_type": "code",
   "execution_count": 2,
   "metadata": {},
   "outputs": [],
   "source": [
    "%matplotlib inline"
   ]
  },
  {
   "cell_type": "code",
   "execution_count": 3,
   "metadata": {},
   "outputs": [],
   "source": [
    "data_nyc=pd.read_csv('nyc_taxi_trip_duration.csv')"
   ]
  },
  {
   "cell_type": "code",
   "execution_count": 4,
   "metadata": {},
   "outputs": [
    {
     "data": {
      "text/html": [
       "<div>\n",
       "<style scoped>\n",
       "    .dataframe tbody tr th:only-of-type {\n",
       "        vertical-align: middle;\n",
       "    }\n",
       "\n",
       "    .dataframe tbody tr th {\n",
       "        vertical-align: top;\n",
       "    }\n",
       "\n",
       "    .dataframe thead th {\n",
       "        text-align: right;\n",
       "    }\n",
       "</style>\n",
       "<table border=\"1\" class=\"dataframe\">\n",
       "  <thead>\n",
       "    <tr style=\"text-align: right;\">\n",
       "      <th></th>\n",
       "      <th>id</th>\n",
       "      <th>vendor_id</th>\n",
       "      <th>pickup_datetime</th>\n",
       "      <th>dropoff_datetime</th>\n",
       "      <th>passenger_count</th>\n",
       "      <th>pickup_longitude</th>\n",
       "      <th>pickup_latitude</th>\n",
       "      <th>dropoff_longitude</th>\n",
       "      <th>dropoff_latitude</th>\n",
       "      <th>store_and_fwd_flag</th>\n",
       "      <th>trip_duration</th>\n",
       "    </tr>\n",
       "  </thead>\n",
       "  <tbody>\n",
       "    <tr>\n",
       "      <th>0</th>\n",
       "      <td>id1080784</td>\n",
       "      <td>2</td>\n",
       "      <td>2016-02-29 16:40:21</td>\n",
       "      <td>2016-02-29 16:47:01</td>\n",
       "      <td>1</td>\n",
       "      <td>-73.953918</td>\n",
       "      <td>40.778873</td>\n",
       "      <td>-73.963875</td>\n",
       "      <td>40.771164</td>\n",
       "      <td>N</td>\n",
       "      <td>400</td>\n",
       "    </tr>\n",
       "    <tr>\n",
       "      <th>1</th>\n",
       "      <td>id0889885</td>\n",
       "      <td>1</td>\n",
       "      <td>2016-03-11 23:35:37</td>\n",
       "      <td>2016-03-11 23:53:57</td>\n",
       "      <td>2</td>\n",
       "      <td>-73.988312</td>\n",
       "      <td>40.731743</td>\n",
       "      <td>-73.994751</td>\n",
       "      <td>40.694931</td>\n",
       "      <td>N</td>\n",
       "      <td>1100</td>\n",
       "    </tr>\n",
       "    <tr>\n",
       "      <th>2</th>\n",
       "      <td>id0857912</td>\n",
       "      <td>2</td>\n",
       "      <td>2016-02-21 17:59:33</td>\n",
       "      <td>2016-02-21 18:26:48</td>\n",
       "      <td>2</td>\n",
       "      <td>-73.997314</td>\n",
       "      <td>40.721458</td>\n",
       "      <td>-73.948029</td>\n",
       "      <td>40.774918</td>\n",
       "      <td>N</td>\n",
       "      <td>1635</td>\n",
       "    </tr>\n",
       "    <tr>\n",
       "      <th>3</th>\n",
       "      <td>id3744273</td>\n",
       "      <td>2</td>\n",
       "      <td>2016-01-05 09:44:31</td>\n",
       "      <td>2016-01-05 10:03:32</td>\n",
       "      <td>6</td>\n",
       "      <td>-73.961670</td>\n",
       "      <td>40.759720</td>\n",
       "      <td>-73.956779</td>\n",
       "      <td>40.780628</td>\n",
       "      <td>N</td>\n",
       "      <td>1141</td>\n",
       "    </tr>\n",
       "    <tr>\n",
       "      <th>4</th>\n",
       "      <td>id0232939</td>\n",
       "      <td>1</td>\n",
       "      <td>2016-02-17 06:42:23</td>\n",
       "      <td>2016-02-17 06:56:31</td>\n",
       "      <td>1</td>\n",
       "      <td>-74.017120</td>\n",
       "      <td>40.708469</td>\n",
       "      <td>-73.988182</td>\n",
       "      <td>40.740631</td>\n",
       "      <td>N</td>\n",
       "      <td>848</td>\n",
       "    </tr>\n",
       "  </tbody>\n",
       "</table>\n",
       "</div>"
      ],
      "text/plain": [
       "          id  vendor_id      pickup_datetime     dropoff_datetime  \\\n",
       "0  id1080784          2  2016-02-29 16:40:21  2016-02-29 16:47:01   \n",
       "1  id0889885          1  2016-03-11 23:35:37  2016-03-11 23:53:57   \n",
       "2  id0857912          2  2016-02-21 17:59:33  2016-02-21 18:26:48   \n",
       "3  id3744273          2  2016-01-05 09:44:31  2016-01-05 10:03:32   \n",
       "4  id0232939          1  2016-02-17 06:42:23  2016-02-17 06:56:31   \n",
       "\n",
       "   passenger_count  pickup_longitude  pickup_latitude  dropoff_longitude  \\\n",
       "0                1        -73.953918        40.778873         -73.963875   \n",
       "1                2        -73.988312        40.731743         -73.994751   \n",
       "2                2        -73.997314        40.721458         -73.948029   \n",
       "3                6        -73.961670        40.759720         -73.956779   \n",
       "4                1        -74.017120        40.708469         -73.988182   \n",
       "\n",
       "   dropoff_latitude store_and_fwd_flag  trip_duration  \n",
       "0         40.771164                  N            400  \n",
       "1         40.694931                  N           1100  \n",
       "2         40.774918                  N           1635  \n",
       "3         40.780628                  N           1141  \n",
       "4         40.740631                  N            848  "
      ]
     },
     "execution_count": 4,
     "metadata": {},
     "output_type": "execute_result"
    }
   ],
   "source": [
    "data_nyc.head()"
   ]
  },
  {
   "cell_type": "code",
   "execution_count": 5,
   "metadata": {},
   "outputs": [
    {
     "data": {
      "text/plain": [
       "Index(['id', 'vendor_id', 'pickup_datetime', 'dropoff_datetime',\n",
       "       'passenger_count', 'pickup_longitude', 'pickup_latitude',\n",
       "       'dropoff_longitude', 'dropoff_latitude', 'store_and_fwd_flag',\n",
       "       'trip_duration'],\n",
       "      dtype='object')"
      ]
     },
     "execution_count": 5,
     "metadata": {},
     "output_type": "execute_result"
    }
   ],
   "source": [
    "data_nyc.columns"
   ]
  },
  {
   "cell_type": "code",
   "execution_count": 6,
   "metadata": {},
   "outputs": [
    {
     "data": {
      "text/plain": [
       "(729322, 11)"
      ]
     },
     "execution_count": 6,
     "metadata": {},
     "output_type": "execute_result"
    }
   ],
   "source": [
    "data_nyc.shape"
   ]
  },
  {
   "cell_type": "code",
   "execution_count": 7,
   "metadata": {},
   "outputs": [
    {
     "data": {
      "text/html": [
       "<div>\n",
       "<style scoped>\n",
       "    .dataframe tbody tr th:only-of-type {\n",
       "        vertical-align: middle;\n",
       "    }\n",
       "\n",
       "    .dataframe tbody tr th {\n",
       "        vertical-align: top;\n",
       "    }\n",
       "\n",
       "    .dataframe thead th {\n",
       "        text-align: right;\n",
       "    }\n",
       "</style>\n",
       "<table border=\"1\" class=\"dataframe\">\n",
       "  <thead>\n",
       "    <tr style=\"text-align: right;\">\n",
       "      <th></th>\n",
       "      <th>id</th>\n",
       "      <th>vendor_id</th>\n",
       "      <th>pickup_datetime</th>\n",
       "      <th>dropoff_datetime</th>\n",
       "      <th>passenger_count</th>\n",
       "      <th>pickup_longitude</th>\n",
       "      <th>pickup_latitude</th>\n",
       "      <th>dropoff_longitude</th>\n",
       "      <th>dropoff_latitude</th>\n",
       "      <th>store_and_fwd_flag</th>\n",
       "      <th>trip_duration</th>\n",
       "    </tr>\n",
       "  </thead>\n",
       "  <tbody>\n",
       "    <tr>\n",
       "      <th>729317</th>\n",
       "      <td>id3905982</td>\n",
       "      <td>2</td>\n",
       "      <td>2016-05-21 13:29:38</td>\n",
       "      <td>2016-05-21 13:34:34</td>\n",
       "      <td>2</td>\n",
       "      <td>-73.965919</td>\n",
       "      <td>40.789780</td>\n",
       "      <td>-73.952637</td>\n",
       "      <td>40.789181</td>\n",
       "      <td>N</td>\n",
       "      <td>296</td>\n",
       "    </tr>\n",
       "    <tr>\n",
       "      <th>729318</th>\n",
       "      <td>id0102861</td>\n",
       "      <td>1</td>\n",
       "      <td>2016-02-22 00:43:11</td>\n",
       "      <td>2016-02-22 00:48:26</td>\n",
       "      <td>1</td>\n",
       "      <td>-73.996666</td>\n",
       "      <td>40.737434</td>\n",
       "      <td>-74.001320</td>\n",
       "      <td>40.731911</td>\n",
       "      <td>N</td>\n",
       "      <td>315</td>\n",
       "    </tr>\n",
       "    <tr>\n",
       "      <th>729319</th>\n",
       "      <td>id0439699</td>\n",
       "      <td>1</td>\n",
       "      <td>2016-04-15 18:56:48</td>\n",
       "      <td>2016-04-15 19:08:01</td>\n",
       "      <td>1</td>\n",
       "      <td>-73.997849</td>\n",
       "      <td>40.761696</td>\n",
       "      <td>-74.001488</td>\n",
       "      <td>40.741207</td>\n",
       "      <td>N</td>\n",
       "      <td>673</td>\n",
       "    </tr>\n",
       "    <tr>\n",
       "      <th>729320</th>\n",
       "      <td>id2078912</td>\n",
       "      <td>1</td>\n",
       "      <td>2016-06-19 09:50:47</td>\n",
       "      <td>2016-06-19 09:58:14</td>\n",
       "      <td>1</td>\n",
       "      <td>-74.006706</td>\n",
       "      <td>40.708244</td>\n",
       "      <td>-74.013550</td>\n",
       "      <td>40.713814</td>\n",
       "      <td>N</td>\n",
       "      <td>447</td>\n",
       "    </tr>\n",
       "    <tr>\n",
       "      <th>729321</th>\n",
       "      <td>id1053441</td>\n",
       "      <td>2</td>\n",
       "      <td>2016-01-01 17:24:16</td>\n",
       "      <td>2016-01-01 17:44:40</td>\n",
       "      <td>4</td>\n",
       "      <td>-74.003342</td>\n",
       "      <td>40.743839</td>\n",
       "      <td>-73.945847</td>\n",
       "      <td>40.712841</td>\n",
       "      <td>N</td>\n",
       "      <td>1224</td>\n",
       "    </tr>\n",
       "  </tbody>\n",
       "</table>\n",
       "</div>"
      ],
      "text/plain": [
       "               id  vendor_id      pickup_datetime     dropoff_datetime  \\\n",
       "729317  id3905982          2  2016-05-21 13:29:38  2016-05-21 13:34:34   \n",
       "729318  id0102861          1  2016-02-22 00:43:11  2016-02-22 00:48:26   \n",
       "729319  id0439699          1  2016-04-15 18:56:48  2016-04-15 19:08:01   \n",
       "729320  id2078912          1  2016-06-19 09:50:47  2016-06-19 09:58:14   \n",
       "729321  id1053441          2  2016-01-01 17:24:16  2016-01-01 17:44:40   \n",
       "\n",
       "        passenger_count  pickup_longitude  pickup_latitude  dropoff_longitude  \\\n",
       "729317                2        -73.965919        40.789780         -73.952637   \n",
       "729318                1        -73.996666        40.737434         -74.001320   \n",
       "729319                1        -73.997849        40.761696         -74.001488   \n",
       "729320                1        -74.006706        40.708244         -74.013550   \n",
       "729321                4        -74.003342        40.743839         -73.945847   \n",
       "\n",
       "        dropoff_latitude store_and_fwd_flag  trip_duration  \n",
       "729317         40.789181                  N            296  \n",
       "729318         40.731911                  N            315  \n",
       "729319         40.741207                  N            673  \n",
       "729320         40.713814                  N            447  \n",
       "729321         40.712841                  N           1224  "
      ]
     },
     "execution_count": 7,
     "metadata": {},
     "output_type": "execute_result"
    }
   ],
   "source": [
    "data_nyc.tail()"
   ]
  },
  {
   "cell_type": "code",
   "execution_count": 8,
   "metadata": {},
   "outputs": [
    {
     "data": {
      "text/plain": [
       "id                     object\n",
       "vendor_id               int64\n",
       "pickup_datetime        object\n",
       "dropoff_datetime       object\n",
       "passenger_count         int64\n",
       "pickup_longitude      float64\n",
       "pickup_latitude       float64\n",
       "dropoff_longitude     float64\n",
       "dropoff_latitude      float64\n",
       "store_and_fwd_flag     object\n",
       "trip_duration           int64\n",
       "dtype: object"
      ]
     },
     "execution_count": 8,
     "metadata": {},
     "output_type": "execute_result"
    }
   ],
   "source": [
    "data_nyc.dtypes"
   ]
  },
  {
   "cell_type": "code",
   "execution_count": 9,
   "metadata": {},
   "outputs": [],
   "source": [
    "# Converting the datetime variables[pickup_datetime,dropoff_datetime] to datetime \n",
    "data_nyc['pickup_datetime']=pd.to_datetime(data_nyc['pickup_datetime'])\n",
    "data_nyc['dropoff_datetime']=pd.to_datetime(data_nyc['dropoff_datetime'])"
   ]
  },
  {
   "cell_type": "code",
   "execution_count": 10,
   "metadata": {},
   "outputs": [
    {
     "data": {
      "text/plain": [
       "vendor_id          int64\n",
       "passenger_count    int64\n",
       "trip_duration      int64\n",
       "dtype: object"
      ]
     },
     "execution_count": 10,
     "metadata": {},
     "output_type": "execute_result"
    }
   ],
   "source": [
    "#Identify the interger variable\n",
    "data_nyc.dtypes[data_nyc.dtypes =='int64']"
   ]
  },
  {
   "cell_type": "code",
   "execution_count": 11,
   "metadata": {},
   "outputs": [],
   "source": [
    "#Summary of intger datatype\n",
    "#vendor_id == unique number for each vendor\n",
    "#trip_duration == trip duration for each trip covered . It is measured by second \n",
    "#passenger_count= No of passage count during respective trip.\n"
   ]
  },
  {
   "cell_type": "code",
   "execution_count": 12,
   "metadata": {},
   "outputs": [
    {
     "data": {
      "text/plain": [
       "pickup_longitude     float64\n",
       "pickup_latitude      float64\n",
       "dropoff_longitude    float64\n",
       "dropoff_latitude     float64\n",
       "dtype: object"
      ]
     },
     "execution_count": 12,
     "metadata": {},
     "output_type": "execute_result"
    }
   ],
   "source": [
    "data_nyc.dtypes[data_nyc.dtypes =='float64']"
   ]
  },
  {
   "cell_type": "code",
   "execution_count": 13,
   "metadata": {},
   "outputs": [],
   "source": [
    "#Summary of float datatype\n",
    "#pickup_longitude == pick up location either /measurement east or west --This is ok to be float \n",
    "#pickup_latitude ==  pick up location either /measurement north or south --This is ok to be float \n",
    "#dropoff_longitude= drop  location either /measurement east or west --This is ok to be float \n",
    "#dropoff_latitude= drop  location either /measurement north or south--This is ok to be float "
   ]
  },
  {
   "cell_type": "code",
   "execution_count": 14,
   "metadata": {},
   "outputs": [
    {
     "data": {
      "text/html": [
       "<div>\n",
       "<style scoped>\n",
       "    .dataframe tbody tr th:only-of-type {\n",
       "        vertical-align: middle;\n",
       "    }\n",
       "\n",
       "    .dataframe tbody tr th {\n",
       "        vertical-align: top;\n",
       "    }\n",
       "\n",
       "    .dataframe thead th {\n",
       "        text-align: right;\n",
       "    }\n",
       "</style>\n",
       "<table border=\"1\" class=\"dataframe\">\n",
       "  <thead>\n",
       "    <tr style=\"text-align: right;\">\n",
       "      <th></th>\n",
       "      <th>id</th>\n",
       "      <th>vendor_id</th>\n",
       "      <th>pickup_datetime</th>\n",
       "      <th>dropoff_datetime</th>\n",
       "      <th>passenger_count</th>\n",
       "      <th>pickup_longitude</th>\n",
       "      <th>pickup_latitude</th>\n",
       "      <th>dropoff_longitude</th>\n",
       "      <th>dropoff_latitude</th>\n",
       "      <th>store_and_fwd_flag</th>\n",
       "      <th>trip_duration</th>\n",
       "    </tr>\n",
       "  </thead>\n",
       "  <tbody>\n",
       "    <tr>\n",
       "      <th>0</th>\n",
       "      <td>id1080784</td>\n",
       "      <td>2</td>\n",
       "      <td>2016-02-29 16:40:21</td>\n",
       "      <td>2016-02-29 16:47:01</td>\n",
       "      <td>1</td>\n",
       "      <td>-73.953918</td>\n",
       "      <td>40.778873</td>\n",
       "      <td>-73.963875</td>\n",
       "      <td>40.771164</td>\n",
       "      <td>N</td>\n",
       "      <td>400</td>\n",
       "    </tr>\n",
       "    <tr>\n",
       "      <th>1</th>\n",
       "      <td>id0889885</td>\n",
       "      <td>1</td>\n",
       "      <td>2016-03-11 23:35:37</td>\n",
       "      <td>2016-03-11 23:53:57</td>\n",
       "      <td>2</td>\n",
       "      <td>-73.988312</td>\n",
       "      <td>40.731743</td>\n",
       "      <td>-73.994751</td>\n",
       "      <td>40.694931</td>\n",
       "      <td>N</td>\n",
       "      <td>1100</td>\n",
       "    </tr>\n",
       "    <tr>\n",
       "      <th>2</th>\n",
       "      <td>id0857912</td>\n",
       "      <td>2</td>\n",
       "      <td>2016-02-21 17:59:33</td>\n",
       "      <td>2016-02-21 18:26:48</td>\n",
       "      <td>2</td>\n",
       "      <td>-73.997314</td>\n",
       "      <td>40.721458</td>\n",
       "      <td>-73.948029</td>\n",
       "      <td>40.774918</td>\n",
       "      <td>N</td>\n",
       "      <td>1635</td>\n",
       "    </tr>\n",
       "    <tr>\n",
       "      <th>3</th>\n",
       "      <td>id3744273</td>\n",
       "      <td>2</td>\n",
       "      <td>2016-01-05 09:44:31</td>\n",
       "      <td>2016-01-05 10:03:32</td>\n",
       "      <td>6</td>\n",
       "      <td>-73.961670</td>\n",
       "      <td>40.759720</td>\n",
       "      <td>-73.956779</td>\n",
       "      <td>40.780628</td>\n",
       "      <td>N</td>\n",
       "      <td>1141</td>\n",
       "    </tr>\n",
       "    <tr>\n",
       "      <th>4</th>\n",
       "      <td>id0232939</td>\n",
       "      <td>1</td>\n",
       "      <td>2016-02-17 06:42:23</td>\n",
       "      <td>2016-02-17 06:56:31</td>\n",
       "      <td>1</td>\n",
       "      <td>-74.017120</td>\n",
       "      <td>40.708469</td>\n",
       "      <td>-73.988182</td>\n",
       "      <td>40.740631</td>\n",
       "      <td>N</td>\n",
       "      <td>848</td>\n",
       "    </tr>\n",
       "  </tbody>\n",
       "</table>\n",
       "</div>"
      ],
      "text/plain": [
       "          id  vendor_id     pickup_datetime    dropoff_datetime  \\\n",
       "0  id1080784          2 2016-02-29 16:40:21 2016-02-29 16:47:01   \n",
       "1  id0889885          1 2016-03-11 23:35:37 2016-03-11 23:53:57   \n",
       "2  id0857912          2 2016-02-21 17:59:33 2016-02-21 18:26:48   \n",
       "3  id3744273          2 2016-01-05 09:44:31 2016-01-05 10:03:32   \n",
       "4  id0232939          1 2016-02-17 06:42:23 2016-02-17 06:56:31   \n",
       "\n",
       "   passenger_count  pickup_longitude  pickup_latitude  dropoff_longitude  \\\n",
       "0                1        -73.953918        40.778873         -73.963875   \n",
       "1                2        -73.988312        40.731743         -73.994751   \n",
       "2                2        -73.997314        40.721458         -73.948029   \n",
       "3                6        -73.961670        40.759720         -73.956779   \n",
       "4                1        -74.017120        40.708469         -73.988182   \n",
       "\n",
       "   dropoff_latitude store_and_fwd_flag  trip_duration  \n",
       "0         40.771164                  N            400  \n",
       "1         40.694931                  N           1100  \n",
       "2         40.774918                  N           1635  \n",
       "3         40.780628                  N           1141  \n",
       "4         40.740631                  N            848  "
      ]
     },
     "execution_count": 14,
     "metadata": {},
     "output_type": "execute_result"
    }
   ],
   "source": [
    "data_nyc.head()"
   ]
  },
  {
   "cell_type": "code",
   "execution_count": 15,
   "metadata": {},
   "outputs": [],
   "source": [
    "# Converting store_and_fwd_flag to categorical variable \n",
    "data_nyc['store_and_fwd_flag']=data_nyc['store_and_fwd_flag'].astype('category')"
   ]
  },
  {
   "cell_type": "code",
   "execution_count": 16,
   "metadata": {},
   "outputs": [
    {
     "data": {
      "text/plain": [
       "id                            object\n",
       "vendor_id                      int64\n",
       "pickup_datetime       datetime64[ns]\n",
       "dropoff_datetime      datetime64[ns]\n",
       "passenger_count                int64\n",
       "pickup_longitude             float64\n",
       "pickup_latitude              float64\n",
       "dropoff_longitude            float64\n",
       "dropoff_latitude             float64\n",
       "store_and_fwd_flag          category\n",
       "trip_duration                  int64\n",
       "dtype: object"
      ]
     },
     "execution_count": 16,
     "metadata": {},
     "output_type": "execute_result"
    }
   ],
   "source": [
    "data_nyc.dtypes"
   ]
  },
  {
   "cell_type": "code",
   "execution_count": 17,
   "metadata": {},
   "outputs": [],
   "source": [
    "# Just calculating time taken to complete a particular trip\n",
    "time_took = data_nyc['dropoff_datetime']-data_nyc['pickup_datetime']\n",
    "data_nyc['time_taken_trip'] = time_took"
   ]
  },
  {
   "cell_type": "code",
   "execution_count": 18,
   "metadata": {},
   "outputs": [
    {
     "data": {
      "text/html": [
       "<div>\n",
       "<style scoped>\n",
       "    .dataframe tbody tr th:only-of-type {\n",
       "        vertical-align: middle;\n",
       "    }\n",
       "\n",
       "    .dataframe tbody tr th {\n",
       "        vertical-align: top;\n",
       "    }\n",
       "\n",
       "    .dataframe thead th {\n",
       "        text-align: right;\n",
       "    }\n",
       "</style>\n",
       "<table border=\"1\" class=\"dataframe\">\n",
       "  <thead>\n",
       "    <tr style=\"text-align: right;\">\n",
       "      <th></th>\n",
       "      <th>id</th>\n",
       "      <th>vendor_id</th>\n",
       "      <th>pickup_datetime</th>\n",
       "      <th>dropoff_datetime</th>\n",
       "      <th>passenger_count</th>\n",
       "      <th>pickup_longitude</th>\n",
       "      <th>pickup_latitude</th>\n",
       "      <th>dropoff_longitude</th>\n",
       "      <th>dropoff_latitude</th>\n",
       "      <th>store_and_fwd_flag</th>\n",
       "      <th>trip_duration</th>\n",
       "      <th>time_taken_trip</th>\n",
       "    </tr>\n",
       "  </thead>\n",
       "  <tbody>\n",
       "    <tr>\n",
       "      <th>0</th>\n",
       "      <td>id1080784</td>\n",
       "      <td>2</td>\n",
       "      <td>2016-02-29 16:40:21</td>\n",
       "      <td>2016-02-29 16:47:01</td>\n",
       "      <td>1</td>\n",
       "      <td>-73.953918</td>\n",
       "      <td>40.778873</td>\n",
       "      <td>-73.963875</td>\n",
       "      <td>40.771164</td>\n",
       "      <td>N</td>\n",
       "      <td>400</td>\n",
       "      <td>0 days 00:06:40</td>\n",
       "    </tr>\n",
       "    <tr>\n",
       "      <th>1</th>\n",
       "      <td>id0889885</td>\n",
       "      <td>1</td>\n",
       "      <td>2016-03-11 23:35:37</td>\n",
       "      <td>2016-03-11 23:53:57</td>\n",
       "      <td>2</td>\n",
       "      <td>-73.988312</td>\n",
       "      <td>40.731743</td>\n",
       "      <td>-73.994751</td>\n",
       "      <td>40.694931</td>\n",
       "      <td>N</td>\n",
       "      <td>1100</td>\n",
       "      <td>0 days 00:18:20</td>\n",
       "    </tr>\n",
       "    <tr>\n",
       "      <th>2</th>\n",
       "      <td>id0857912</td>\n",
       "      <td>2</td>\n",
       "      <td>2016-02-21 17:59:33</td>\n",
       "      <td>2016-02-21 18:26:48</td>\n",
       "      <td>2</td>\n",
       "      <td>-73.997314</td>\n",
       "      <td>40.721458</td>\n",
       "      <td>-73.948029</td>\n",
       "      <td>40.774918</td>\n",
       "      <td>N</td>\n",
       "      <td>1635</td>\n",
       "      <td>0 days 00:27:15</td>\n",
       "    </tr>\n",
       "    <tr>\n",
       "      <th>3</th>\n",
       "      <td>id3744273</td>\n",
       "      <td>2</td>\n",
       "      <td>2016-01-05 09:44:31</td>\n",
       "      <td>2016-01-05 10:03:32</td>\n",
       "      <td>6</td>\n",
       "      <td>-73.961670</td>\n",
       "      <td>40.759720</td>\n",
       "      <td>-73.956779</td>\n",
       "      <td>40.780628</td>\n",
       "      <td>N</td>\n",
       "      <td>1141</td>\n",
       "      <td>0 days 00:19:01</td>\n",
       "    </tr>\n",
       "    <tr>\n",
       "      <th>4</th>\n",
       "      <td>id0232939</td>\n",
       "      <td>1</td>\n",
       "      <td>2016-02-17 06:42:23</td>\n",
       "      <td>2016-02-17 06:56:31</td>\n",
       "      <td>1</td>\n",
       "      <td>-74.017120</td>\n",
       "      <td>40.708469</td>\n",
       "      <td>-73.988182</td>\n",
       "      <td>40.740631</td>\n",
       "      <td>N</td>\n",
       "      <td>848</td>\n",
       "      <td>0 days 00:14:08</td>\n",
       "    </tr>\n",
       "  </tbody>\n",
       "</table>\n",
       "</div>"
      ],
      "text/plain": [
       "          id  vendor_id     pickup_datetime    dropoff_datetime  \\\n",
       "0  id1080784          2 2016-02-29 16:40:21 2016-02-29 16:47:01   \n",
       "1  id0889885          1 2016-03-11 23:35:37 2016-03-11 23:53:57   \n",
       "2  id0857912          2 2016-02-21 17:59:33 2016-02-21 18:26:48   \n",
       "3  id3744273          2 2016-01-05 09:44:31 2016-01-05 10:03:32   \n",
       "4  id0232939          1 2016-02-17 06:42:23 2016-02-17 06:56:31   \n",
       "\n",
       "   passenger_count  pickup_longitude  pickup_latitude  dropoff_longitude  \\\n",
       "0                1        -73.953918        40.778873         -73.963875   \n",
       "1                2        -73.988312        40.731743         -73.994751   \n",
       "2                2        -73.997314        40.721458         -73.948029   \n",
       "3                6        -73.961670        40.759720         -73.956779   \n",
       "4                1        -74.017120        40.708469         -73.988182   \n",
       "\n",
       "   dropoff_latitude store_and_fwd_flag  trip_duration time_taken_trip  \n",
       "0         40.771164                  N            400 0 days 00:06:40  \n",
       "1         40.694931                  N           1100 0 days 00:18:20  \n",
       "2         40.774918                  N           1635 0 days 00:27:15  \n",
       "3         40.780628                  N           1141 0 days 00:19:01  \n",
       "4         40.740631                  N            848 0 days 00:14:08  "
      ]
     },
     "execution_count": 18,
     "metadata": {},
     "output_type": "execute_result"
    }
   ],
   "source": [
    "data_nyc.head()"
   ]
  },
  {
   "cell_type": "code",
   "execution_count": 19,
   "metadata": {},
   "outputs": [
    {
     "data": {
      "text/plain": [
       "id                             object\n",
       "vendor_id                       int64\n",
       "pickup_datetime        datetime64[ns]\n",
       "dropoff_datetime       datetime64[ns]\n",
       "passenger_count                 int64\n",
       "pickup_longitude              float64\n",
       "pickup_latitude               float64\n",
       "dropoff_longitude             float64\n",
       "dropoff_latitude              float64\n",
       "store_and_fwd_flag           category\n",
       "trip_duration                   int64\n",
       "time_taken_trip       timedelta64[ns]\n",
       "dtype: object"
      ]
     },
     "execution_count": 19,
     "metadata": {},
     "output_type": "execute_result"
    }
   ],
   "source": [
    "data_nyc.dtypes"
   ]
  },
  {
   "cell_type": "code",
   "execution_count": 20,
   "metadata": {},
   "outputs": [],
   "source": [
    "data_nyc['time_taken_trip']=data_nyc['time_taken_trip']/np.timedelta64(1, 's')"
   ]
  },
  {
   "cell_type": "code",
   "execution_count": 21,
   "metadata": {},
   "outputs": [
    {
     "data": {
      "text/html": [
       "<div>\n",
       "<style scoped>\n",
       "    .dataframe tbody tr th:only-of-type {\n",
       "        vertical-align: middle;\n",
       "    }\n",
       "\n",
       "    .dataframe tbody tr th {\n",
       "        vertical-align: top;\n",
       "    }\n",
       "\n",
       "    .dataframe thead th {\n",
       "        text-align: right;\n",
       "    }\n",
       "</style>\n",
       "<table border=\"1\" class=\"dataframe\">\n",
       "  <thead>\n",
       "    <tr style=\"text-align: right;\">\n",
       "      <th></th>\n",
       "      <th>id</th>\n",
       "      <th>vendor_id</th>\n",
       "      <th>pickup_datetime</th>\n",
       "      <th>dropoff_datetime</th>\n",
       "      <th>passenger_count</th>\n",
       "      <th>pickup_longitude</th>\n",
       "      <th>pickup_latitude</th>\n",
       "      <th>dropoff_longitude</th>\n",
       "      <th>dropoff_latitude</th>\n",
       "      <th>store_and_fwd_flag</th>\n",
       "      <th>trip_duration</th>\n",
       "      <th>time_taken_trip</th>\n",
       "    </tr>\n",
       "  </thead>\n",
       "  <tbody>\n",
       "    <tr>\n",
       "      <th>0</th>\n",
       "      <td>id1080784</td>\n",
       "      <td>2</td>\n",
       "      <td>2016-02-29 16:40:21</td>\n",
       "      <td>2016-02-29 16:47:01</td>\n",
       "      <td>1</td>\n",
       "      <td>-73.953918</td>\n",
       "      <td>40.778873</td>\n",
       "      <td>-73.963875</td>\n",
       "      <td>40.771164</td>\n",
       "      <td>N</td>\n",
       "      <td>400</td>\n",
       "      <td>400.0</td>\n",
       "    </tr>\n",
       "    <tr>\n",
       "      <th>1</th>\n",
       "      <td>id0889885</td>\n",
       "      <td>1</td>\n",
       "      <td>2016-03-11 23:35:37</td>\n",
       "      <td>2016-03-11 23:53:57</td>\n",
       "      <td>2</td>\n",
       "      <td>-73.988312</td>\n",
       "      <td>40.731743</td>\n",
       "      <td>-73.994751</td>\n",
       "      <td>40.694931</td>\n",
       "      <td>N</td>\n",
       "      <td>1100</td>\n",
       "      <td>1100.0</td>\n",
       "    </tr>\n",
       "    <tr>\n",
       "      <th>2</th>\n",
       "      <td>id0857912</td>\n",
       "      <td>2</td>\n",
       "      <td>2016-02-21 17:59:33</td>\n",
       "      <td>2016-02-21 18:26:48</td>\n",
       "      <td>2</td>\n",
       "      <td>-73.997314</td>\n",
       "      <td>40.721458</td>\n",
       "      <td>-73.948029</td>\n",
       "      <td>40.774918</td>\n",
       "      <td>N</td>\n",
       "      <td>1635</td>\n",
       "      <td>1635.0</td>\n",
       "    </tr>\n",
       "    <tr>\n",
       "      <th>3</th>\n",
       "      <td>id3744273</td>\n",
       "      <td>2</td>\n",
       "      <td>2016-01-05 09:44:31</td>\n",
       "      <td>2016-01-05 10:03:32</td>\n",
       "      <td>6</td>\n",
       "      <td>-73.961670</td>\n",
       "      <td>40.759720</td>\n",
       "      <td>-73.956779</td>\n",
       "      <td>40.780628</td>\n",
       "      <td>N</td>\n",
       "      <td>1141</td>\n",
       "      <td>1141.0</td>\n",
       "    </tr>\n",
       "    <tr>\n",
       "      <th>4</th>\n",
       "      <td>id0232939</td>\n",
       "      <td>1</td>\n",
       "      <td>2016-02-17 06:42:23</td>\n",
       "      <td>2016-02-17 06:56:31</td>\n",
       "      <td>1</td>\n",
       "      <td>-74.017120</td>\n",
       "      <td>40.708469</td>\n",
       "      <td>-73.988182</td>\n",
       "      <td>40.740631</td>\n",
       "      <td>N</td>\n",
       "      <td>848</td>\n",
       "      <td>848.0</td>\n",
       "    </tr>\n",
       "  </tbody>\n",
       "</table>\n",
       "</div>"
      ],
      "text/plain": [
       "          id  vendor_id     pickup_datetime    dropoff_datetime  \\\n",
       "0  id1080784          2 2016-02-29 16:40:21 2016-02-29 16:47:01   \n",
       "1  id0889885          1 2016-03-11 23:35:37 2016-03-11 23:53:57   \n",
       "2  id0857912          2 2016-02-21 17:59:33 2016-02-21 18:26:48   \n",
       "3  id3744273          2 2016-01-05 09:44:31 2016-01-05 10:03:32   \n",
       "4  id0232939          1 2016-02-17 06:42:23 2016-02-17 06:56:31   \n",
       "\n",
       "   passenger_count  pickup_longitude  pickup_latitude  dropoff_longitude  \\\n",
       "0                1        -73.953918        40.778873         -73.963875   \n",
       "1                2        -73.988312        40.731743         -73.994751   \n",
       "2                2        -73.997314        40.721458         -73.948029   \n",
       "3                6        -73.961670        40.759720         -73.956779   \n",
       "4                1        -74.017120        40.708469         -73.988182   \n",
       "\n",
       "   dropoff_latitude store_and_fwd_flag  trip_duration  time_taken_trip  \n",
       "0         40.771164                  N            400            400.0  \n",
       "1         40.694931                  N           1100           1100.0  \n",
       "2         40.774918                  N           1635           1635.0  \n",
       "3         40.780628                  N           1141           1141.0  \n",
       "4         40.740631                  N            848            848.0  "
      ]
     },
     "execution_count": 21,
     "metadata": {},
     "output_type": "execute_result"
    }
   ],
   "source": [
    "data_nyc.head()"
   ]
  },
  {
   "cell_type": "code",
   "execution_count": 22,
   "metadata": {},
   "outputs": [
    {
     "data": {
      "text/plain": [
       "id                            object\n",
       "vendor_id                      int64\n",
       "pickup_datetime       datetime64[ns]\n",
       "dropoff_datetime      datetime64[ns]\n",
       "passenger_count                int64\n",
       "pickup_longitude             float64\n",
       "pickup_latitude              float64\n",
       "dropoff_longitude            float64\n",
       "dropoff_latitude             float64\n",
       "store_and_fwd_flag          category\n",
       "trip_duration                  int64\n",
       "time_taken_trip              float64\n",
       "dtype: object"
      ]
     },
     "execution_count": 22,
     "metadata": {},
     "output_type": "execute_result"
    }
   ],
   "source": [
    "data_nyc.dtypes"
   ]
  },
  {
   "cell_type": "code",
   "execution_count": 23,
   "metadata": {},
   "outputs": [],
   "source": [
    "data_nyc['time_taken_trip']=data_nyc['time_taken_trip'].astype(int)"
   ]
  },
  {
   "cell_type": "code",
   "execution_count": 24,
   "metadata": {},
   "outputs": [
    {
     "data": {
      "text/html": [
       "<div>\n",
       "<style scoped>\n",
       "    .dataframe tbody tr th:only-of-type {\n",
       "        vertical-align: middle;\n",
       "    }\n",
       "\n",
       "    .dataframe tbody tr th {\n",
       "        vertical-align: top;\n",
       "    }\n",
       "\n",
       "    .dataframe thead th {\n",
       "        text-align: right;\n",
       "    }\n",
       "</style>\n",
       "<table border=\"1\" class=\"dataframe\">\n",
       "  <thead>\n",
       "    <tr style=\"text-align: right;\">\n",
       "      <th></th>\n",
       "      <th>id</th>\n",
       "      <th>vendor_id</th>\n",
       "      <th>pickup_datetime</th>\n",
       "      <th>dropoff_datetime</th>\n",
       "      <th>passenger_count</th>\n",
       "      <th>pickup_longitude</th>\n",
       "      <th>pickup_latitude</th>\n",
       "      <th>dropoff_longitude</th>\n",
       "      <th>dropoff_latitude</th>\n",
       "      <th>store_and_fwd_flag</th>\n",
       "      <th>trip_duration</th>\n",
       "      <th>time_taken_trip</th>\n",
       "    </tr>\n",
       "  </thead>\n",
       "  <tbody>\n",
       "    <tr>\n",
       "      <th>0</th>\n",
       "      <td>id1080784</td>\n",
       "      <td>2</td>\n",
       "      <td>2016-02-29 16:40:21</td>\n",
       "      <td>2016-02-29 16:47:01</td>\n",
       "      <td>1</td>\n",
       "      <td>-73.953918</td>\n",
       "      <td>40.778873</td>\n",
       "      <td>-73.963875</td>\n",
       "      <td>40.771164</td>\n",
       "      <td>N</td>\n",
       "      <td>400</td>\n",
       "      <td>400</td>\n",
       "    </tr>\n",
       "    <tr>\n",
       "      <th>1</th>\n",
       "      <td>id0889885</td>\n",
       "      <td>1</td>\n",
       "      <td>2016-03-11 23:35:37</td>\n",
       "      <td>2016-03-11 23:53:57</td>\n",
       "      <td>2</td>\n",
       "      <td>-73.988312</td>\n",
       "      <td>40.731743</td>\n",
       "      <td>-73.994751</td>\n",
       "      <td>40.694931</td>\n",
       "      <td>N</td>\n",
       "      <td>1100</td>\n",
       "      <td>1100</td>\n",
       "    </tr>\n",
       "    <tr>\n",
       "      <th>2</th>\n",
       "      <td>id0857912</td>\n",
       "      <td>2</td>\n",
       "      <td>2016-02-21 17:59:33</td>\n",
       "      <td>2016-02-21 18:26:48</td>\n",
       "      <td>2</td>\n",
       "      <td>-73.997314</td>\n",
       "      <td>40.721458</td>\n",
       "      <td>-73.948029</td>\n",
       "      <td>40.774918</td>\n",
       "      <td>N</td>\n",
       "      <td>1635</td>\n",
       "      <td>1635</td>\n",
       "    </tr>\n",
       "    <tr>\n",
       "      <th>3</th>\n",
       "      <td>id3744273</td>\n",
       "      <td>2</td>\n",
       "      <td>2016-01-05 09:44:31</td>\n",
       "      <td>2016-01-05 10:03:32</td>\n",
       "      <td>6</td>\n",
       "      <td>-73.961670</td>\n",
       "      <td>40.759720</td>\n",
       "      <td>-73.956779</td>\n",
       "      <td>40.780628</td>\n",
       "      <td>N</td>\n",
       "      <td>1141</td>\n",
       "      <td>1141</td>\n",
       "    </tr>\n",
       "    <tr>\n",
       "      <th>4</th>\n",
       "      <td>id0232939</td>\n",
       "      <td>1</td>\n",
       "      <td>2016-02-17 06:42:23</td>\n",
       "      <td>2016-02-17 06:56:31</td>\n",
       "      <td>1</td>\n",
       "      <td>-74.017120</td>\n",
       "      <td>40.708469</td>\n",
       "      <td>-73.988182</td>\n",
       "      <td>40.740631</td>\n",
       "      <td>N</td>\n",
       "      <td>848</td>\n",
       "      <td>848</td>\n",
       "    </tr>\n",
       "  </tbody>\n",
       "</table>\n",
       "</div>"
      ],
      "text/plain": [
       "          id  vendor_id     pickup_datetime    dropoff_datetime  \\\n",
       "0  id1080784          2 2016-02-29 16:40:21 2016-02-29 16:47:01   \n",
       "1  id0889885          1 2016-03-11 23:35:37 2016-03-11 23:53:57   \n",
       "2  id0857912          2 2016-02-21 17:59:33 2016-02-21 18:26:48   \n",
       "3  id3744273          2 2016-01-05 09:44:31 2016-01-05 10:03:32   \n",
       "4  id0232939          1 2016-02-17 06:42:23 2016-02-17 06:56:31   \n",
       "\n",
       "   passenger_count  pickup_longitude  pickup_latitude  dropoff_longitude  \\\n",
       "0                1        -73.953918        40.778873         -73.963875   \n",
       "1                2        -73.988312        40.731743         -73.994751   \n",
       "2                2        -73.997314        40.721458         -73.948029   \n",
       "3                6        -73.961670        40.759720         -73.956779   \n",
       "4                1        -74.017120        40.708469         -73.988182   \n",
       "\n",
       "   dropoff_latitude store_and_fwd_flag  trip_duration  time_taken_trip  \n",
       "0         40.771164                  N            400              400  \n",
       "1         40.694931                  N           1100             1100  \n",
       "2         40.774918                  N           1635             1635  \n",
       "3         40.780628                  N           1141             1141  \n",
       "4         40.740631                  N            848              848  "
      ]
     },
     "execution_count": 24,
     "metadata": {},
     "output_type": "execute_result"
    }
   ],
   "source": [
    "data_nyc.head()"
   ]
  },
  {
   "cell_type": "code",
   "execution_count": 25,
   "metadata": {},
   "outputs": [
    {
     "data": {
      "text/plain": [
       "id                            object\n",
       "vendor_id                      int64\n",
       "pickup_datetime       datetime64[ns]\n",
       "dropoff_datetime      datetime64[ns]\n",
       "passenger_count                int64\n",
       "pickup_longitude             float64\n",
       "pickup_latitude              float64\n",
       "dropoff_longitude            float64\n",
       "dropoff_latitude             float64\n",
       "store_and_fwd_flag          category\n",
       "trip_duration                  int64\n",
       "time_taken_trip                int64\n",
       "dtype: object"
      ]
     },
     "execution_count": 25,
     "metadata": {},
     "output_type": "execute_result"
    }
   ],
   "source": [
    "data_nyc.dtypes"
   ]
  },
  {
   "cell_type": "code",
   "execution_count": 26,
   "metadata": {},
   "outputs": [],
   "source": [
    "#Now its time to isolate all the numrical countinous variable which will help us to find the min , max and data range\n",
    "numerical_colum= data_nyc.select_dtypes(include=['int','float']).columns"
   ]
  },
  {
   "cell_type": "code",
   "execution_count": 27,
   "metadata": {},
   "outputs": [
    {
     "data": {
      "text/plain": [
       "Index(['vendor_id', 'passenger_count', 'pickup_longitude', 'pickup_latitude',\n",
       "       'dropoff_longitude', 'dropoff_latitude', 'trip_duration',\n",
       "       'time_taken_trip'],\n",
       "      dtype='object')"
      ]
     },
     "execution_count": 27,
     "metadata": {},
     "output_type": "execute_result"
    }
   ],
   "source": [
    "numerical_colum"
   ]
  },
  {
   "cell_type": "code",
   "execution_count": 28,
   "metadata": {},
   "outputs": [
    {
     "data": {
      "text/html": [
       "<div>\n",
       "<style scoped>\n",
       "    .dataframe tbody tr th:only-of-type {\n",
       "        vertical-align: middle;\n",
       "    }\n",
       "\n",
       "    .dataframe tbody tr th {\n",
       "        vertical-align: top;\n",
       "    }\n",
       "\n",
       "    .dataframe thead th {\n",
       "        text-align: right;\n",
       "    }\n",
       "</style>\n",
       "<table border=\"1\" class=\"dataframe\">\n",
       "  <thead>\n",
       "    <tr style=\"text-align: right;\">\n",
       "      <th></th>\n",
       "      <th>id</th>\n",
       "      <th>vendor_id</th>\n",
       "      <th>pickup_datetime</th>\n",
       "      <th>dropoff_datetime</th>\n",
       "      <th>passenger_count</th>\n",
       "      <th>pickup_longitude</th>\n",
       "      <th>pickup_latitude</th>\n",
       "      <th>dropoff_longitude</th>\n",
       "      <th>dropoff_latitude</th>\n",
       "      <th>store_and_fwd_flag</th>\n",
       "      <th>trip_duration</th>\n",
       "      <th>time_taken_trip</th>\n",
       "    </tr>\n",
       "  </thead>\n",
       "  <tbody>\n",
       "    <tr>\n",
       "      <th>3572</th>\n",
       "      <td>id3364866</td>\n",
       "      <td>1</td>\n",
       "      <td>2016-02-13 14:04:20</td>\n",
       "      <td>2016-02-13 14:21:29</td>\n",
       "      <td>0</td>\n",
       "      <td>-73.990479</td>\n",
       "      <td>40.742004</td>\n",
       "      <td>-73.989243</td>\n",
       "      <td>40.763680</td>\n",
       "      <td>N</td>\n",
       "      <td>1029</td>\n",
       "      <td>1029</td>\n",
       "    </tr>\n",
       "    <tr>\n",
       "      <th>23847</th>\n",
       "      <td>id3485118</td>\n",
       "      <td>1</td>\n",
       "      <td>2016-05-11 19:15:57</td>\n",
       "      <td>2016-05-11 19:32:18</td>\n",
       "      <td>0</td>\n",
       "      <td>-73.987572</td>\n",
       "      <td>40.754566</td>\n",
       "      <td>-73.972031</td>\n",
       "      <td>40.762836</td>\n",
       "      <td>N</td>\n",
       "      <td>981</td>\n",
       "      <td>981</td>\n",
       "    </tr>\n",
       "    <tr>\n",
       "      <th>45987</th>\n",
       "      <td>id2571672</td>\n",
       "      <td>1</td>\n",
       "      <td>2016-03-06 05:24:55</td>\n",
       "      <td>2016-03-06 05:25:00</td>\n",
       "      <td>0</td>\n",
       "      <td>-73.979698</td>\n",
       "      <td>40.761196</td>\n",
       "      <td>-73.979698</td>\n",
       "      <td>40.761196</td>\n",
       "      <td>Y</td>\n",
       "      <td>5</td>\n",
       "      <td>5</td>\n",
       "    </tr>\n",
       "    <tr>\n",
       "      <th>76998</th>\n",
       "      <td>id1253169</td>\n",
       "      <td>1</td>\n",
       "      <td>2016-02-28 01:08:48</td>\n",
       "      <td>2016-02-28 01:09:01</td>\n",
       "      <td>0</td>\n",
       "      <td>-74.035942</td>\n",
       "      <td>40.736488</td>\n",
       "      <td>-74.035942</td>\n",
       "      <td>40.736492</td>\n",
       "      <td>N</td>\n",
       "      <td>13</td>\n",
       "      <td>13</td>\n",
       "    </tr>\n",
       "    <tr>\n",
       "      <th>101709</th>\n",
       "      <td>id1220914</td>\n",
       "      <td>2</td>\n",
       "      <td>2016-01-17 20:51:55</td>\n",
       "      <td>2016-01-17 20:52:43</td>\n",
       "      <td>0</td>\n",
       "      <td>-73.959999</td>\n",
       "      <td>40.766861</td>\n",
       "      <td>-73.960106</td>\n",
       "      <td>40.766911</td>\n",
       "      <td>N</td>\n",
       "      <td>48</td>\n",
       "      <td>48</td>\n",
       "    </tr>\n",
       "    <tr>\n",
       "      <th>186050</th>\n",
       "      <td>id3645383</td>\n",
       "      <td>2</td>\n",
       "      <td>2016-01-01 05:01:32</td>\n",
       "      <td>2016-01-01 05:01:36</td>\n",
       "      <td>0</td>\n",
       "      <td>-73.993134</td>\n",
       "      <td>40.757473</td>\n",
       "      <td>-73.993294</td>\n",
       "      <td>40.757538</td>\n",
       "      <td>N</td>\n",
       "      <td>4</td>\n",
       "      <td>4</td>\n",
       "    </tr>\n",
       "    <tr>\n",
       "      <th>186913</th>\n",
       "      <td>id3494250</td>\n",
       "      <td>1</td>\n",
       "      <td>2016-04-02 02:32:10</td>\n",
       "      <td>2016-04-02 02:50:51</td>\n",
       "      <td>0</td>\n",
       "      <td>-74.005089</td>\n",
       "      <td>40.729038</td>\n",
       "      <td>-74.032486</td>\n",
       "      <td>40.619579</td>\n",
       "      <td>N</td>\n",
       "      <td>1121</td>\n",
       "      <td>1121</td>\n",
       "    </tr>\n",
       "    <tr>\n",
       "      <th>194926</th>\n",
       "      <td>id1205792</td>\n",
       "      <td>1</td>\n",
       "      <td>2016-03-11 12:33:17</td>\n",
       "      <td>2016-03-11 13:09:48</td>\n",
       "      <td>0</td>\n",
       "      <td>-73.982063</td>\n",
       "      <td>40.763798</td>\n",
       "      <td>-74.188072</td>\n",
       "      <td>40.694042</td>\n",
       "      <td>N</td>\n",
       "      <td>2191</td>\n",
       "      <td>2191</td>\n",
       "    </tr>\n",
       "    <tr>\n",
       "      <th>231010</th>\n",
       "      <td>id0959777</td>\n",
       "      <td>2</td>\n",
       "      <td>2016-03-01 19:11:26</td>\n",
       "      <td>2016-03-01 19:11:30</td>\n",
       "      <td>0</td>\n",
       "      <td>-74.003777</td>\n",
       "      <td>40.738186</td>\n",
       "      <td>-74.003807</td>\n",
       "      <td>40.738174</td>\n",
       "      <td>N</td>\n",
       "      <td>4</td>\n",
       "      <td>4</td>\n",
       "    </tr>\n",
       "    <tr>\n",
       "      <th>247692</th>\n",
       "      <td>id2891366</td>\n",
       "      <td>1</td>\n",
       "      <td>2016-02-18 21:26:15</td>\n",
       "      <td>2016-02-18 21:28:00</td>\n",
       "      <td>0</td>\n",
       "      <td>-73.983543</td>\n",
       "      <td>40.716404</td>\n",
       "      <td>-73.983543</td>\n",
       "      <td>40.716404</td>\n",
       "      <td>N</td>\n",
       "      <td>105</td>\n",
       "      <td>105</td>\n",
       "    </tr>\n",
       "    <tr>\n",
       "      <th>272114</th>\n",
       "      <td>id0878599</td>\n",
       "      <td>1</td>\n",
       "      <td>2016-01-25 08:46:58</td>\n",
       "      <td>2016-01-25 09:41:01</td>\n",
       "      <td>0</td>\n",
       "      <td>-73.928078</td>\n",
       "      <td>40.736412</td>\n",
       "      <td>-73.985519</td>\n",
       "      <td>40.758972</td>\n",
       "      <td>N</td>\n",
       "      <td>3243</td>\n",
       "      <td>3243</td>\n",
       "    </tr>\n",
       "    <tr>\n",
       "      <th>315015</th>\n",
       "      <td>id1846091</td>\n",
       "      <td>2</td>\n",
       "      <td>2016-01-16 00:50:18</td>\n",
       "      <td>2016-01-16 00:51:36</td>\n",
       "      <td>0</td>\n",
       "      <td>-73.919167</td>\n",
       "      <td>40.686878</td>\n",
       "      <td>-73.919151</td>\n",
       "      <td>40.686874</td>\n",
       "      <td>N</td>\n",
       "      <td>78</td>\n",
       "      <td>78</td>\n",
       "    </tr>\n",
       "    <tr>\n",
       "      <th>319175</th>\n",
       "      <td>id2247129</td>\n",
       "      <td>2</td>\n",
       "      <td>2016-01-13 11:50:12</td>\n",
       "      <td>2016-01-13 12:16:08</td>\n",
       "      <td>0</td>\n",
       "      <td>-73.965027</td>\n",
       "      <td>40.775269</td>\n",
       "      <td>-73.973450</td>\n",
       "      <td>40.840618</td>\n",
       "      <td>N</td>\n",
       "      <td>1556</td>\n",
       "      <td>1556</td>\n",
       "    </tr>\n",
       "    <tr>\n",
       "      <th>329274</th>\n",
       "      <td>id3762593</td>\n",
       "      <td>1</td>\n",
       "      <td>2016-01-04 12:24:17</td>\n",
       "      <td>2016-01-04 13:01:48</td>\n",
       "      <td>0</td>\n",
       "      <td>-73.815224</td>\n",
       "      <td>40.700081</td>\n",
       "      <td>-73.950699</td>\n",
       "      <td>40.755222</td>\n",
       "      <td>N</td>\n",
       "      <td>2251</td>\n",
       "      <td>2251</td>\n",
       "    </tr>\n",
       "    <tr>\n",
       "      <th>333621</th>\n",
       "      <td>id2029944</td>\n",
       "      <td>1</td>\n",
       "      <td>2016-03-11 09:38:54</td>\n",
       "      <td>2016-03-11 09:38:57</td>\n",
       "      <td>0</td>\n",
       "      <td>-73.790398</td>\n",
       "      <td>40.655457</td>\n",
       "      <td>-73.790398</td>\n",
       "      <td>40.655457</td>\n",
       "      <td>N</td>\n",
       "      <td>3</td>\n",
       "      <td>3</td>\n",
       "    </tr>\n",
       "    <tr>\n",
       "      <th>344350</th>\n",
       "      <td>id1376024</td>\n",
       "      <td>1</td>\n",
       "      <td>2016-04-01 16:10:32</td>\n",
       "      <td>2016-04-01 16:11:01</td>\n",
       "      <td>0</td>\n",
       "      <td>-73.951973</td>\n",
       "      <td>40.733479</td>\n",
       "      <td>-73.951996</td>\n",
       "      <td>40.733471</td>\n",
       "      <td>N</td>\n",
       "      <td>29</td>\n",
       "      <td>29</td>\n",
       "    </tr>\n",
       "    <tr>\n",
       "      <th>370723</th>\n",
       "      <td>id3347660</td>\n",
       "      <td>2</td>\n",
       "      <td>2016-05-29 01:26:30</td>\n",
       "      <td>2016-05-29 01:26:49</td>\n",
       "      <td>0</td>\n",
       "      <td>-73.932732</td>\n",
       "      <td>40.856438</td>\n",
       "      <td>-73.932762</td>\n",
       "      <td>40.856438</td>\n",
       "      <td>N</td>\n",
       "      <td>19</td>\n",
       "      <td>19</td>\n",
       "    </tr>\n",
       "    <tr>\n",
       "      <th>377817</th>\n",
       "      <td>id3368191</td>\n",
       "      <td>1</td>\n",
       "      <td>2016-05-08 23:38:09</td>\n",
       "      <td>2016-05-08 23:38:21</td>\n",
       "      <td>0</td>\n",
       "      <td>-73.934937</td>\n",
       "      <td>40.740841</td>\n",
       "      <td>-73.934929</td>\n",
       "      <td>40.740837</td>\n",
       "      <td>N</td>\n",
       "      <td>12</td>\n",
       "      <td>12</td>\n",
       "    </tr>\n",
       "    <tr>\n",
       "      <th>378238</th>\n",
       "      <td>id1593144</td>\n",
       "      <td>1</td>\n",
       "      <td>2016-01-08 21:55:27</td>\n",
       "      <td>2016-01-08 22:01:52</td>\n",
       "      <td>0</td>\n",
       "      <td>-73.980957</td>\n",
       "      <td>40.742142</td>\n",
       "      <td>-73.986122</td>\n",
       "      <td>40.729488</td>\n",
       "      <td>N</td>\n",
       "      <td>385</td>\n",
       "      <td>385</td>\n",
       "    </tr>\n",
       "    <tr>\n",
       "      <th>407850</th>\n",
       "      <td>id3267095</td>\n",
       "      <td>2</td>\n",
       "      <td>2016-02-13 01:33:02</td>\n",
       "      <td>2016-02-13 01:33:06</td>\n",
       "      <td>0</td>\n",
       "      <td>-73.979118</td>\n",
       "      <td>40.760181</td>\n",
       "      <td>-73.979111</td>\n",
       "      <td>40.760159</td>\n",
       "      <td>N</td>\n",
       "      <td>4</td>\n",
       "      <td>4</td>\n",
       "    </tr>\n",
       "    <tr>\n",
       "      <th>423670</th>\n",
       "      <td>id0662963</td>\n",
       "      <td>2</td>\n",
       "      <td>2016-02-13 04:41:13</td>\n",
       "      <td>2016-02-13 04:41:22</td>\n",
       "      <td>0</td>\n",
       "      <td>-73.945633</td>\n",
       "      <td>40.803673</td>\n",
       "      <td>-73.945625</td>\n",
       "      <td>40.803661</td>\n",
       "      <td>N</td>\n",
       "      <td>9</td>\n",
       "      <td>9</td>\n",
       "    </tr>\n",
       "    <tr>\n",
       "      <th>427067</th>\n",
       "      <td>id1656232</td>\n",
       "      <td>1</td>\n",
       "      <td>2016-04-21 06:04:56</td>\n",
       "      <td>2016-04-21 06:05:18</td>\n",
       "      <td>0</td>\n",
       "      <td>-73.978149</td>\n",
       "      <td>40.750183</td>\n",
       "      <td>-73.978104</td>\n",
       "      <td>40.750477</td>\n",
       "      <td>N</td>\n",
       "      <td>22</td>\n",
       "      <td>22</td>\n",
       "    </tr>\n",
       "    <tr>\n",
       "      <th>476153</th>\n",
       "      <td>id0796773</td>\n",
       "      <td>1</td>\n",
       "      <td>2016-02-07 17:23:48</td>\n",
       "      <td>2016-02-07 17:23:57</td>\n",
       "      <td>0</td>\n",
       "      <td>-73.954941</td>\n",
       "      <td>40.687866</td>\n",
       "      <td>-73.954742</td>\n",
       "      <td>40.687862</td>\n",
       "      <td>N</td>\n",
       "      <td>9</td>\n",
       "      <td>9</td>\n",
       "    </tr>\n",
       "    <tr>\n",
       "      <th>501596</th>\n",
       "      <td>id3066152</td>\n",
       "      <td>1</td>\n",
       "      <td>2016-02-01 00:27:13</td>\n",
       "      <td>2016-02-01 00:27:58</td>\n",
       "      <td>0</td>\n",
       "      <td>-74.014488</td>\n",
       "      <td>40.708229</td>\n",
       "      <td>-74.014488</td>\n",
       "      <td>40.708229</td>\n",
       "      <td>N</td>\n",
       "      <td>45</td>\n",
       "      <td>45</td>\n",
       "    </tr>\n",
       "    <tr>\n",
       "      <th>506457</th>\n",
       "      <td>id2613392</td>\n",
       "      <td>2</td>\n",
       "      <td>2016-03-31 22:25:35</td>\n",
       "      <td>2016-03-31 22:25:42</td>\n",
       "      <td>0</td>\n",
       "      <td>-74.010307</td>\n",
       "      <td>40.718697</td>\n",
       "      <td>-74.010330</td>\n",
       "      <td>40.718651</td>\n",
       "      <td>N</td>\n",
       "      <td>7</td>\n",
       "      <td>7</td>\n",
       "    </tr>\n",
       "    <tr>\n",
       "      <th>512767</th>\n",
       "      <td>id1794493</td>\n",
       "      <td>2</td>\n",
       "      <td>2016-03-20 01:25:42</td>\n",
       "      <td>2016-03-20 01:26:04</td>\n",
       "      <td>0</td>\n",
       "      <td>-73.995094</td>\n",
       "      <td>40.760296</td>\n",
       "      <td>-73.995064</td>\n",
       "      <td>40.760284</td>\n",
       "      <td>N</td>\n",
       "      <td>22</td>\n",
       "      <td>22</td>\n",
       "    </tr>\n",
       "    <tr>\n",
       "      <th>533760</th>\n",
       "      <td>id0948644</td>\n",
       "      <td>2</td>\n",
       "      <td>2016-02-22 00:40:25</td>\n",
       "      <td>2016-02-22 00:40:26</td>\n",
       "      <td>0</td>\n",
       "      <td>-73.987595</td>\n",
       "      <td>40.719997</td>\n",
       "      <td>-73.987595</td>\n",
       "      <td>40.720005</td>\n",
       "      <td>N</td>\n",
       "      <td>1</td>\n",
       "      <td>1</td>\n",
       "    </tr>\n",
       "    <tr>\n",
       "      <th>540189</th>\n",
       "      <td>id3493269</td>\n",
       "      <td>2</td>\n",
       "      <td>2016-01-14 19:09:41</td>\n",
       "      <td>2016-01-14 19:09:48</td>\n",
       "      <td>0</td>\n",
       "      <td>-73.904709</td>\n",
       "      <td>40.758099</td>\n",
       "      <td>-73.904716</td>\n",
       "      <td>40.758148</td>\n",
       "      <td>N</td>\n",
       "      <td>7</td>\n",
       "      <td>7</td>\n",
       "    </tr>\n",
       "    <tr>\n",
       "      <th>541539</th>\n",
       "      <td>id1610720</td>\n",
       "      <td>2</td>\n",
       "      <td>2016-03-13 14:08:20</td>\n",
       "      <td>2016-03-13 14:08:28</td>\n",
       "      <td>0</td>\n",
       "      <td>-73.922081</td>\n",
       "      <td>40.636040</td>\n",
       "      <td>-73.922081</td>\n",
       "      <td>40.636040</td>\n",
       "      <td>N</td>\n",
       "      <td>8</td>\n",
       "      <td>8</td>\n",
       "    </tr>\n",
       "    <tr>\n",
       "      <th>568782</th>\n",
       "      <td>id3533680</td>\n",
       "      <td>1</td>\n",
       "      <td>2016-01-10 04:17:21</td>\n",
       "      <td>2016-01-10 04:17:24</td>\n",
       "      <td>0</td>\n",
       "      <td>-73.993195</td>\n",
       "      <td>40.598701</td>\n",
       "      <td>-73.993195</td>\n",
       "      <td>40.598701</td>\n",
       "      <td>N</td>\n",
       "      <td>3</td>\n",
       "      <td>3</td>\n",
       "    </tr>\n",
       "    <tr>\n",
       "      <th>592303</th>\n",
       "      <td>id2154895</td>\n",
       "      <td>1</td>\n",
       "      <td>2016-05-23 23:37:37</td>\n",
       "      <td>2016-05-23 23:37:45</td>\n",
       "      <td>0</td>\n",
       "      <td>-73.861633</td>\n",
       "      <td>40.705029</td>\n",
       "      <td>-73.861633</td>\n",
       "      <td>40.705029</td>\n",
       "      <td>N</td>\n",
       "      <td>8</td>\n",
       "      <td>8</td>\n",
       "    </tr>\n",
       "    <tr>\n",
       "      <th>668368</th>\n",
       "      <td>id0271506</td>\n",
       "      <td>2</td>\n",
       "      <td>2016-05-22 00:23:15</td>\n",
       "      <td>2016-05-22 00:23:56</td>\n",
       "      <td>0</td>\n",
       "      <td>-73.956718</td>\n",
       "      <td>40.777142</td>\n",
       "      <td>-73.956764</td>\n",
       "      <td>40.776958</td>\n",
       "      <td>N</td>\n",
       "      <td>41</td>\n",
       "      <td>41</td>\n",
       "    </tr>\n",
       "    <tr>\n",
       "      <th>711013</th>\n",
       "      <td>id2957383</td>\n",
       "      <td>1</td>\n",
       "      <td>2016-05-20 03:22:01</td>\n",
       "      <td>2016-05-20 03:23:09</td>\n",
       "      <td>0</td>\n",
       "      <td>-74.005341</td>\n",
       "      <td>40.871922</td>\n",
       "      <td>-74.006096</td>\n",
       "      <td>40.872318</td>\n",
       "      <td>Y</td>\n",
       "      <td>68</td>\n",
       "      <td>68</td>\n",
       "    </tr>\n",
       "  </tbody>\n",
       "</table>\n",
       "</div>"
      ],
      "text/plain": [
       "               id  vendor_id     pickup_datetime    dropoff_datetime  \\\n",
       "3572    id3364866          1 2016-02-13 14:04:20 2016-02-13 14:21:29   \n",
       "23847   id3485118          1 2016-05-11 19:15:57 2016-05-11 19:32:18   \n",
       "45987   id2571672          1 2016-03-06 05:24:55 2016-03-06 05:25:00   \n",
       "76998   id1253169          1 2016-02-28 01:08:48 2016-02-28 01:09:01   \n",
       "101709  id1220914          2 2016-01-17 20:51:55 2016-01-17 20:52:43   \n",
       "186050  id3645383          2 2016-01-01 05:01:32 2016-01-01 05:01:36   \n",
       "186913  id3494250          1 2016-04-02 02:32:10 2016-04-02 02:50:51   \n",
       "194926  id1205792          1 2016-03-11 12:33:17 2016-03-11 13:09:48   \n",
       "231010  id0959777          2 2016-03-01 19:11:26 2016-03-01 19:11:30   \n",
       "247692  id2891366          1 2016-02-18 21:26:15 2016-02-18 21:28:00   \n",
       "272114  id0878599          1 2016-01-25 08:46:58 2016-01-25 09:41:01   \n",
       "315015  id1846091          2 2016-01-16 00:50:18 2016-01-16 00:51:36   \n",
       "319175  id2247129          2 2016-01-13 11:50:12 2016-01-13 12:16:08   \n",
       "329274  id3762593          1 2016-01-04 12:24:17 2016-01-04 13:01:48   \n",
       "333621  id2029944          1 2016-03-11 09:38:54 2016-03-11 09:38:57   \n",
       "344350  id1376024          1 2016-04-01 16:10:32 2016-04-01 16:11:01   \n",
       "370723  id3347660          2 2016-05-29 01:26:30 2016-05-29 01:26:49   \n",
       "377817  id3368191          1 2016-05-08 23:38:09 2016-05-08 23:38:21   \n",
       "378238  id1593144          1 2016-01-08 21:55:27 2016-01-08 22:01:52   \n",
       "407850  id3267095          2 2016-02-13 01:33:02 2016-02-13 01:33:06   \n",
       "423670  id0662963          2 2016-02-13 04:41:13 2016-02-13 04:41:22   \n",
       "427067  id1656232          1 2016-04-21 06:04:56 2016-04-21 06:05:18   \n",
       "476153  id0796773          1 2016-02-07 17:23:48 2016-02-07 17:23:57   \n",
       "501596  id3066152          1 2016-02-01 00:27:13 2016-02-01 00:27:58   \n",
       "506457  id2613392          2 2016-03-31 22:25:35 2016-03-31 22:25:42   \n",
       "512767  id1794493          2 2016-03-20 01:25:42 2016-03-20 01:26:04   \n",
       "533760  id0948644          2 2016-02-22 00:40:25 2016-02-22 00:40:26   \n",
       "540189  id3493269          2 2016-01-14 19:09:41 2016-01-14 19:09:48   \n",
       "541539  id1610720          2 2016-03-13 14:08:20 2016-03-13 14:08:28   \n",
       "568782  id3533680          1 2016-01-10 04:17:21 2016-01-10 04:17:24   \n",
       "592303  id2154895          1 2016-05-23 23:37:37 2016-05-23 23:37:45   \n",
       "668368  id0271506          2 2016-05-22 00:23:15 2016-05-22 00:23:56   \n",
       "711013  id2957383          1 2016-05-20 03:22:01 2016-05-20 03:23:09   \n",
       "\n",
       "        passenger_count  pickup_longitude  pickup_latitude  dropoff_longitude  \\\n",
       "3572                  0        -73.990479        40.742004         -73.989243   \n",
       "23847                 0        -73.987572        40.754566         -73.972031   \n",
       "45987                 0        -73.979698        40.761196         -73.979698   \n",
       "76998                 0        -74.035942        40.736488         -74.035942   \n",
       "101709                0        -73.959999        40.766861         -73.960106   \n",
       "186050                0        -73.993134        40.757473         -73.993294   \n",
       "186913                0        -74.005089        40.729038         -74.032486   \n",
       "194926                0        -73.982063        40.763798         -74.188072   \n",
       "231010                0        -74.003777        40.738186         -74.003807   \n",
       "247692                0        -73.983543        40.716404         -73.983543   \n",
       "272114                0        -73.928078        40.736412         -73.985519   \n",
       "315015                0        -73.919167        40.686878         -73.919151   \n",
       "319175                0        -73.965027        40.775269         -73.973450   \n",
       "329274                0        -73.815224        40.700081         -73.950699   \n",
       "333621                0        -73.790398        40.655457         -73.790398   \n",
       "344350                0        -73.951973        40.733479         -73.951996   \n",
       "370723                0        -73.932732        40.856438         -73.932762   \n",
       "377817                0        -73.934937        40.740841         -73.934929   \n",
       "378238                0        -73.980957        40.742142         -73.986122   \n",
       "407850                0        -73.979118        40.760181         -73.979111   \n",
       "423670                0        -73.945633        40.803673         -73.945625   \n",
       "427067                0        -73.978149        40.750183         -73.978104   \n",
       "476153                0        -73.954941        40.687866         -73.954742   \n",
       "501596                0        -74.014488        40.708229         -74.014488   \n",
       "506457                0        -74.010307        40.718697         -74.010330   \n",
       "512767                0        -73.995094        40.760296         -73.995064   \n",
       "533760                0        -73.987595        40.719997         -73.987595   \n",
       "540189                0        -73.904709        40.758099         -73.904716   \n",
       "541539                0        -73.922081        40.636040         -73.922081   \n",
       "568782                0        -73.993195        40.598701         -73.993195   \n",
       "592303                0        -73.861633        40.705029         -73.861633   \n",
       "668368                0        -73.956718        40.777142         -73.956764   \n",
       "711013                0        -74.005341        40.871922         -74.006096   \n",
       "\n",
       "        dropoff_latitude store_and_fwd_flag  trip_duration  time_taken_trip  \n",
       "3572           40.763680                  N           1029             1029  \n",
       "23847          40.762836                  N            981              981  \n",
       "45987          40.761196                  Y              5                5  \n",
       "76998          40.736492                  N             13               13  \n",
       "101709         40.766911                  N             48               48  \n",
       "186050         40.757538                  N              4                4  \n",
       "186913         40.619579                  N           1121             1121  \n",
       "194926         40.694042                  N           2191             2191  \n",
       "231010         40.738174                  N              4                4  \n",
       "247692         40.716404                  N            105              105  \n",
       "272114         40.758972                  N           3243             3243  \n",
       "315015         40.686874                  N             78               78  \n",
       "319175         40.840618                  N           1556             1556  \n",
       "329274         40.755222                  N           2251             2251  \n",
       "333621         40.655457                  N              3                3  \n",
       "344350         40.733471                  N             29               29  \n",
       "370723         40.856438                  N             19               19  \n",
       "377817         40.740837                  N             12               12  \n",
       "378238         40.729488                  N            385              385  \n",
       "407850         40.760159                  N              4                4  \n",
       "423670         40.803661                  N              9                9  \n",
       "427067         40.750477                  N             22               22  \n",
       "476153         40.687862                  N              9                9  \n",
       "501596         40.708229                  N             45               45  \n",
       "506457         40.718651                  N              7                7  \n",
       "512767         40.760284                  N             22               22  \n",
       "533760         40.720005                  N              1                1  \n",
       "540189         40.758148                  N              7                7  \n",
       "541539         40.636040                  N              8                8  \n",
       "568782         40.598701                  N              3                3  \n",
       "592303         40.705029                  N              8                8  \n",
       "668368         40.776958                  N             41               41  \n",
       "711013         40.872318                  Y             68               68  "
      ]
     },
     "execution_count": 28,
     "metadata": {},
     "output_type": "execute_result"
    }
   ],
   "source": [
    "data_nyc[data_nyc['passenger_count']==data_nyc['passenger_count'].min()]"
   ]
  },
  {
   "cell_type": "code",
   "execution_count": 29,
   "metadata": {},
   "outputs": [
    {
     "data": {
      "text/html": [
       "<div>\n",
       "<style scoped>\n",
       "    .dataframe tbody tr th:only-of-type {\n",
       "        vertical-align: middle;\n",
       "    }\n",
       "\n",
       "    .dataframe tbody tr th {\n",
       "        vertical-align: top;\n",
       "    }\n",
       "\n",
       "    .dataframe thead th {\n",
       "        text-align: right;\n",
       "    }\n",
       "</style>\n",
       "<table border=\"1\" class=\"dataframe\">\n",
       "  <thead>\n",
       "    <tr style=\"text-align: right;\">\n",
       "      <th></th>\n",
       "      <th>id</th>\n",
       "      <th>vendor_id</th>\n",
       "      <th>pickup_datetime</th>\n",
       "      <th>dropoff_datetime</th>\n",
       "      <th>passenger_count</th>\n",
       "      <th>pickup_longitude</th>\n",
       "      <th>pickup_latitude</th>\n",
       "      <th>dropoff_longitude</th>\n",
       "      <th>dropoff_latitude</th>\n",
       "      <th>store_and_fwd_flag</th>\n",
       "      <th>trip_duration</th>\n",
       "      <th>time_taken_trip</th>\n",
       "    </tr>\n",
       "  </thead>\n",
       "  <tbody>\n",
       "    <tr>\n",
       "      <th>629474</th>\n",
       "      <td>id2489742</td>\n",
       "      <td>2</td>\n",
       "      <td>2016-06-24 08:09:21</td>\n",
       "      <td>2016-06-24 08:18:41</td>\n",
       "      <td>9</td>\n",
       "      <td>-73.710632</td>\n",
       "      <td>40.671581</td>\n",
       "      <td>-73.710632</td>\n",
       "      <td>40.671581</td>\n",
       "      <td>N</td>\n",
       "      <td>560</td>\n",
       "      <td>560</td>\n",
       "    </tr>\n",
       "  </tbody>\n",
       "</table>\n",
       "</div>"
      ],
      "text/plain": [
       "               id  vendor_id     pickup_datetime    dropoff_datetime  \\\n",
       "629474  id2489742          2 2016-06-24 08:09:21 2016-06-24 08:18:41   \n",
       "\n",
       "        passenger_count  pickup_longitude  pickup_latitude  dropoff_longitude  \\\n",
       "629474                9        -73.710632        40.671581         -73.710632   \n",
       "\n",
       "        dropoff_latitude store_and_fwd_flag  trip_duration  time_taken_trip  \n",
       "629474         40.671581                  N            560              560  "
      ]
     },
     "execution_count": 29,
     "metadata": {},
     "output_type": "execute_result"
    }
   ],
   "source": [
    "data_nyc[data_nyc['passenger_count']==data_nyc['passenger_count'].max()]"
   ]
  },
  {
   "cell_type": "code",
   "execution_count": 30,
   "metadata": {},
   "outputs": [
    {
     "data": {
      "text/html": [
       "<div>\n",
       "<style scoped>\n",
       "    .dataframe tbody tr th:only-of-type {\n",
       "        vertical-align: middle;\n",
       "    }\n",
       "\n",
       "    .dataframe tbody tr th {\n",
       "        vertical-align: top;\n",
       "    }\n",
       "\n",
       "    .dataframe thead th {\n",
       "        text-align: right;\n",
       "    }\n",
       "</style>\n",
       "<table border=\"1\" class=\"dataframe\">\n",
       "  <thead>\n",
       "    <tr style=\"text-align: right;\">\n",
       "      <th></th>\n",
       "      <th>id</th>\n",
       "      <th>vendor_id</th>\n",
       "      <th>pickup_datetime</th>\n",
       "      <th>dropoff_datetime</th>\n",
       "      <th>passenger_count</th>\n",
       "      <th>pickup_longitude</th>\n",
       "      <th>pickup_latitude</th>\n",
       "      <th>dropoff_longitude</th>\n",
       "      <th>dropoff_latitude</th>\n",
       "      <th>store_and_fwd_flag</th>\n",
       "      <th>trip_duration</th>\n",
       "      <th>time_taken_trip</th>\n",
       "    </tr>\n",
       "  </thead>\n",
       "  <tbody>\n",
       "    <tr>\n",
       "      <th>70318</th>\n",
       "      <td>id0553321</td>\n",
       "      <td>2</td>\n",
       "      <td>2016-04-11 19:01:35</td>\n",
       "      <td>2016-04-11 19:01:36</td>\n",
       "      <td>1</td>\n",
       "      <td>-73.945999</td>\n",
       "      <td>40.792202</td>\n",
       "      <td>-73.947411</td>\n",
       "      <td>40.792740</td>\n",
       "      <td>N</td>\n",
       "      <td>1</td>\n",
       "      <td>1</td>\n",
       "    </tr>\n",
       "    <tr>\n",
       "      <th>95823</th>\n",
       "      <td>id2943073</td>\n",
       "      <td>2</td>\n",
       "      <td>2016-01-03 16:55:44</td>\n",
       "      <td>2016-01-03 16:55:45</td>\n",
       "      <td>1</td>\n",
       "      <td>-73.975677</td>\n",
       "      <td>40.785488</td>\n",
       "      <td>-73.976372</td>\n",
       "      <td>40.785831</td>\n",
       "      <td>N</td>\n",
       "      <td>1</td>\n",
       "      <td>1</td>\n",
       "    </tr>\n",
       "    <tr>\n",
       "      <th>102646</th>\n",
       "      <td>id2536510</td>\n",
       "      <td>1</td>\n",
       "      <td>2016-04-17 11:44:49</td>\n",
       "      <td>2016-04-17 11:44:50</td>\n",
       "      <td>1</td>\n",
       "      <td>-73.940384</td>\n",
       "      <td>40.786423</td>\n",
       "      <td>-73.940300</td>\n",
       "      <td>40.786373</td>\n",
       "      <td>N</td>\n",
       "      <td>1</td>\n",
       "      <td>1</td>\n",
       "    </tr>\n",
       "    <tr>\n",
       "      <th>119181</th>\n",
       "      <td>id2517984</td>\n",
       "      <td>1</td>\n",
       "      <td>2016-01-09 00:28:55</td>\n",
       "      <td>2016-01-09 00:28:56</td>\n",
       "      <td>1</td>\n",
       "      <td>-73.861961</td>\n",
       "      <td>40.768559</td>\n",
       "      <td>-73.861961</td>\n",
       "      <td>40.768559</td>\n",
       "      <td>N</td>\n",
       "      <td>1</td>\n",
       "      <td>1</td>\n",
       "    </tr>\n",
       "    <tr>\n",
       "      <th>296874</th>\n",
       "      <td>id1520236</td>\n",
       "      <td>1</td>\n",
       "      <td>2016-05-17 09:03:38</td>\n",
       "      <td>2016-05-17 09:03:39</td>\n",
       "      <td>1</td>\n",
       "      <td>-73.819893</td>\n",
       "      <td>40.740822</td>\n",
       "      <td>-73.819885</td>\n",
       "      <td>40.740822</td>\n",
       "      <td>N</td>\n",
       "      <td>1</td>\n",
       "      <td>1</td>\n",
       "    </tr>\n",
       "    <tr>\n",
       "      <th>312992</th>\n",
       "      <td>id0075470</td>\n",
       "      <td>1</td>\n",
       "      <td>2016-03-07 16:12:28</td>\n",
       "      <td>2016-03-07 16:12:29</td>\n",
       "      <td>1</td>\n",
       "      <td>-73.980690</td>\n",
       "      <td>40.744419</td>\n",
       "      <td>-73.980690</td>\n",
       "      <td>40.744419</td>\n",
       "      <td>N</td>\n",
       "      <td>1</td>\n",
       "      <td>1</td>\n",
       "    </tr>\n",
       "    <tr>\n",
       "      <th>323299</th>\n",
       "      <td>id0578509</td>\n",
       "      <td>1</td>\n",
       "      <td>2016-02-03 12:35:22</td>\n",
       "      <td>2016-02-03 12:35:23</td>\n",
       "      <td>1</td>\n",
       "      <td>-73.980560</td>\n",
       "      <td>40.754829</td>\n",
       "      <td>-73.980560</td>\n",
       "      <td>40.754829</td>\n",
       "      <td>N</td>\n",
       "      <td>1</td>\n",
       "      <td>1</td>\n",
       "    </tr>\n",
       "    <tr>\n",
       "      <th>398887</th>\n",
       "      <td>id2402793</td>\n",
       "      <td>1</td>\n",
       "      <td>2016-04-30 00:28:45</td>\n",
       "      <td>2016-04-30 00:28:46</td>\n",
       "      <td>1</td>\n",
       "      <td>-73.789658</td>\n",
       "      <td>40.647003</td>\n",
       "      <td>-73.789658</td>\n",
       "      <td>40.647003</td>\n",
       "      <td>N</td>\n",
       "      <td>1</td>\n",
       "      <td>1</td>\n",
       "    </tr>\n",
       "    <tr>\n",
       "      <th>512833</th>\n",
       "      <td>id2697717</td>\n",
       "      <td>2</td>\n",
       "      <td>2016-03-27 12:55:52</td>\n",
       "      <td>2016-03-27 12:55:53</td>\n",
       "      <td>2</td>\n",
       "      <td>-73.983154</td>\n",
       "      <td>40.767159</td>\n",
       "      <td>-73.983238</td>\n",
       "      <td>40.767097</td>\n",
       "      <td>N</td>\n",
       "      <td>1</td>\n",
       "      <td>1</td>\n",
       "    </tr>\n",
       "    <tr>\n",
       "      <th>533760</th>\n",
       "      <td>id0948644</td>\n",
       "      <td>2</td>\n",
       "      <td>2016-02-22 00:40:25</td>\n",
       "      <td>2016-02-22 00:40:26</td>\n",
       "      <td>0</td>\n",
       "      <td>-73.987595</td>\n",
       "      <td>40.719997</td>\n",
       "      <td>-73.987595</td>\n",
       "      <td>40.720005</td>\n",
       "      <td>N</td>\n",
       "      <td>1</td>\n",
       "      <td>1</td>\n",
       "    </tr>\n",
       "    <tr>\n",
       "      <th>566349</th>\n",
       "      <td>id0839864</td>\n",
       "      <td>1</td>\n",
       "      <td>2016-02-06 13:40:27</td>\n",
       "      <td>2016-02-06 13:40:28</td>\n",
       "      <td>1</td>\n",
       "      <td>-73.987991</td>\n",
       "      <td>40.724083</td>\n",
       "      <td>-73.987991</td>\n",
       "      <td>40.724079</td>\n",
       "      <td>N</td>\n",
       "      <td>1</td>\n",
       "      <td>1</td>\n",
       "    </tr>\n",
       "    <tr>\n",
       "      <th>622664</th>\n",
       "      <td>id0550194</td>\n",
       "      <td>1</td>\n",
       "      <td>2016-04-20 23:15:08</td>\n",
       "      <td>2016-04-20 23:15:09</td>\n",
       "      <td>1</td>\n",
       "      <td>-73.986282</td>\n",
       "      <td>40.750034</td>\n",
       "      <td>-73.986237</td>\n",
       "      <td>40.750088</td>\n",
       "      <td>N</td>\n",
       "      <td>1</td>\n",
       "      <td>1</td>\n",
       "    </tr>\n",
       "    <tr>\n",
       "      <th>672240</th>\n",
       "      <td>id2072503</td>\n",
       "      <td>1</td>\n",
       "      <td>2016-01-20 05:53:45</td>\n",
       "      <td>2016-01-20 05:53:46</td>\n",
       "      <td>1</td>\n",
       "      <td>-73.807213</td>\n",
       "      <td>40.658192</td>\n",
       "      <td>-73.807259</td>\n",
       "      <td>40.658051</td>\n",
       "      <td>N</td>\n",
       "      <td>1</td>\n",
       "      <td>1</td>\n",
       "    </tr>\n",
       "  </tbody>\n",
       "</table>\n",
       "</div>"
      ],
      "text/plain": [
       "               id  vendor_id     pickup_datetime    dropoff_datetime  \\\n",
       "70318   id0553321          2 2016-04-11 19:01:35 2016-04-11 19:01:36   \n",
       "95823   id2943073          2 2016-01-03 16:55:44 2016-01-03 16:55:45   \n",
       "102646  id2536510          1 2016-04-17 11:44:49 2016-04-17 11:44:50   \n",
       "119181  id2517984          1 2016-01-09 00:28:55 2016-01-09 00:28:56   \n",
       "296874  id1520236          1 2016-05-17 09:03:38 2016-05-17 09:03:39   \n",
       "312992  id0075470          1 2016-03-07 16:12:28 2016-03-07 16:12:29   \n",
       "323299  id0578509          1 2016-02-03 12:35:22 2016-02-03 12:35:23   \n",
       "398887  id2402793          1 2016-04-30 00:28:45 2016-04-30 00:28:46   \n",
       "512833  id2697717          2 2016-03-27 12:55:52 2016-03-27 12:55:53   \n",
       "533760  id0948644          2 2016-02-22 00:40:25 2016-02-22 00:40:26   \n",
       "566349  id0839864          1 2016-02-06 13:40:27 2016-02-06 13:40:28   \n",
       "622664  id0550194          1 2016-04-20 23:15:08 2016-04-20 23:15:09   \n",
       "672240  id2072503          1 2016-01-20 05:53:45 2016-01-20 05:53:46   \n",
       "\n",
       "        passenger_count  pickup_longitude  pickup_latitude  dropoff_longitude  \\\n",
       "70318                 1        -73.945999        40.792202         -73.947411   \n",
       "95823                 1        -73.975677        40.785488         -73.976372   \n",
       "102646                1        -73.940384        40.786423         -73.940300   \n",
       "119181                1        -73.861961        40.768559         -73.861961   \n",
       "296874                1        -73.819893        40.740822         -73.819885   \n",
       "312992                1        -73.980690        40.744419         -73.980690   \n",
       "323299                1        -73.980560        40.754829         -73.980560   \n",
       "398887                1        -73.789658        40.647003         -73.789658   \n",
       "512833                2        -73.983154        40.767159         -73.983238   \n",
       "533760                0        -73.987595        40.719997         -73.987595   \n",
       "566349                1        -73.987991        40.724083         -73.987991   \n",
       "622664                1        -73.986282        40.750034         -73.986237   \n",
       "672240                1        -73.807213        40.658192         -73.807259   \n",
       "\n",
       "        dropoff_latitude store_and_fwd_flag  trip_duration  time_taken_trip  \n",
       "70318          40.792740                  N              1                1  \n",
       "95823          40.785831                  N              1                1  \n",
       "102646         40.786373                  N              1                1  \n",
       "119181         40.768559                  N              1                1  \n",
       "296874         40.740822                  N              1                1  \n",
       "312992         40.744419                  N              1                1  \n",
       "323299         40.754829                  N              1                1  \n",
       "398887         40.647003                  N              1                1  \n",
       "512833         40.767097                  N              1                1  \n",
       "533760         40.720005                  N              1                1  \n",
       "566349         40.724079                  N              1                1  \n",
       "622664         40.750088                  N              1                1  \n",
       "672240         40.658051                  N              1                1  "
      ]
     },
     "execution_count": 30,
     "metadata": {},
     "output_type": "execute_result"
    }
   ],
   "source": [
    "data_nyc[data_nyc['trip_duration']==data_nyc['trip_duration'].min()]"
   ]
  },
  {
   "cell_type": "code",
   "execution_count": 31,
   "metadata": {},
   "outputs": [
    {
     "data": {
      "text/html": [
       "<div>\n",
       "<style scoped>\n",
       "    .dataframe tbody tr th:only-of-type {\n",
       "        vertical-align: middle;\n",
       "    }\n",
       "\n",
       "    .dataframe tbody tr th {\n",
       "        vertical-align: top;\n",
       "    }\n",
       "\n",
       "    .dataframe thead th {\n",
       "        text-align: right;\n",
       "    }\n",
       "</style>\n",
       "<table border=\"1\" class=\"dataframe\">\n",
       "  <thead>\n",
       "    <tr style=\"text-align: right;\">\n",
       "      <th></th>\n",
       "      <th>id</th>\n",
       "      <th>vendor_id</th>\n",
       "      <th>pickup_datetime</th>\n",
       "      <th>dropoff_datetime</th>\n",
       "      <th>passenger_count</th>\n",
       "      <th>pickup_longitude</th>\n",
       "      <th>pickup_latitude</th>\n",
       "      <th>dropoff_longitude</th>\n",
       "      <th>dropoff_latitude</th>\n",
       "      <th>store_and_fwd_flag</th>\n",
       "      <th>trip_duration</th>\n",
       "      <th>time_taken_trip</th>\n",
       "    </tr>\n",
       "  </thead>\n",
       "  <tbody>\n",
       "    <tr>\n",
       "      <th>21813</th>\n",
       "      <td>id1864733</td>\n",
       "      <td>1</td>\n",
       "      <td>2016-01-05 00:19:42</td>\n",
       "      <td>2016-01-27 11:08:38</td>\n",
       "      <td>1</td>\n",
       "      <td>-73.78965</td>\n",
       "      <td>40.643559</td>\n",
       "      <td>-73.95681</td>\n",
       "      <td>40.773087</td>\n",
       "      <td>N</td>\n",
       "      <td>1939736</td>\n",
       "      <td>1939736</td>\n",
       "    </tr>\n",
       "  </tbody>\n",
       "</table>\n",
       "</div>"
      ],
      "text/plain": [
       "              id  vendor_id     pickup_datetime    dropoff_datetime  \\\n",
       "21813  id1864733          1 2016-01-05 00:19:42 2016-01-27 11:08:38   \n",
       "\n",
       "       passenger_count  pickup_longitude  pickup_latitude  dropoff_longitude  \\\n",
       "21813                1         -73.78965        40.643559          -73.95681   \n",
       "\n",
       "       dropoff_latitude store_and_fwd_flag  trip_duration  time_taken_trip  \n",
       "21813         40.773087                  N        1939736          1939736  "
      ]
     },
     "execution_count": 31,
     "metadata": {},
     "output_type": "execute_result"
    }
   ],
   "source": [
    "data_nyc[data_nyc['trip_duration']==data_nyc['trip_duration'].max()]"
   ]
  },
  {
   "cell_type": "code",
   "execution_count": 32,
   "metadata": {},
   "outputs": [
    {
     "data": {
      "text/html": [
       "<div>\n",
       "<style scoped>\n",
       "    .dataframe tbody tr th:only-of-type {\n",
       "        vertical-align: middle;\n",
       "    }\n",
       "\n",
       "    .dataframe tbody tr th {\n",
       "        vertical-align: top;\n",
       "    }\n",
       "\n",
       "    .dataframe thead th {\n",
       "        text-align: right;\n",
       "    }\n",
       "</style>\n",
       "<table border=\"1\" class=\"dataframe\">\n",
       "  <thead>\n",
       "    <tr style=\"text-align: right;\">\n",
       "      <th></th>\n",
       "      <th>id</th>\n",
       "      <th>vendor_id</th>\n",
       "      <th>pickup_datetime</th>\n",
       "      <th>dropoff_datetime</th>\n",
       "      <th>passenger_count</th>\n",
       "      <th>pickup_longitude</th>\n",
       "      <th>pickup_latitude</th>\n",
       "      <th>dropoff_longitude</th>\n",
       "      <th>dropoff_latitude</th>\n",
       "      <th>store_and_fwd_flag</th>\n",
       "      <th>trip_duration</th>\n",
       "      <th>time_taken_trip</th>\n",
       "    </tr>\n",
       "  </thead>\n",
       "  <tbody>\n",
       "    <tr>\n",
       "      <th>423573</th>\n",
       "      <td>id0205460</td>\n",
       "      <td>1</td>\n",
       "      <td>2016-01-10 16:46:16</td>\n",
       "      <td>2016-01-10 16:51:45</td>\n",
       "      <td>1</td>\n",
       "      <td>-65.897385</td>\n",
       "      <td>39.457882</td>\n",
       "      <td>-65.897385</td>\n",
       "      <td>39.457882</td>\n",
       "      <td>N</td>\n",
       "      <td>329</td>\n",
       "      <td>329</td>\n",
       "    </tr>\n",
       "  </tbody>\n",
       "</table>\n",
       "</div>"
      ],
      "text/plain": [
       "               id  vendor_id     pickup_datetime    dropoff_datetime  \\\n",
       "423573  id0205460          1 2016-01-10 16:46:16 2016-01-10 16:51:45   \n",
       "\n",
       "        passenger_count  pickup_longitude  pickup_latitude  dropoff_longitude  \\\n",
       "423573                1        -65.897385        39.457882         -65.897385   \n",
       "\n",
       "        dropoff_latitude store_and_fwd_flag  trip_duration  time_taken_trip  \n",
       "423573         39.457882                  N            329              329  "
      ]
     },
     "execution_count": 32,
     "metadata": {},
     "output_type": "execute_result"
    }
   ],
   "source": [
    "data_nyc[data_nyc['pickup_longitude']==data_nyc['pickup_longitude'].max()]"
   ]
  },
  {
   "cell_type": "code",
   "execution_count": 33,
   "metadata": {},
   "outputs": [
    {
     "data": {
      "text/html": [
       "<div>\n",
       "<style scoped>\n",
       "    .dataframe tbody tr th:only-of-type {\n",
       "        vertical-align: middle;\n",
       "    }\n",
       "\n",
       "    .dataframe tbody tr th {\n",
       "        vertical-align: top;\n",
       "    }\n",
       "\n",
       "    .dataframe thead th {\n",
       "        text-align: right;\n",
       "    }\n",
       "</style>\n",
       "<table border=\"1\" class=\"dataframe\">\n",
       "  <thead>\n",
       "    <tr style=\"text-align: right;\">\n",
       "      <th></th>\n",
       "      <th>id</th>\n",
       "      <th>vendor_id</th>\n",
       "      <th>pickup_datetime</th>\n",
       "      <th>dropoff_datetime</th>\n",
       "      <th>passenger_count</th>\n",
       "      <th>pickup_longitude</th>\n",
       "      <th>pickup_latitude</th>\n",
       "      <th>dropoff_longitude</th>\n",
       "      <th>dropoff_latitude</th>\n",
       "      <th>store_and_fwd_flag</th>\n",
       "      <th>trip_duration</th>\n",
       "      <th>time_taken_trip</th>\n",
       "    </tr>\n",
       "  </thead>\n",
       "  <tbody>\n",
       "    <tr>\n",
       "      <th>244913</th>\n",
       "      <td>id2306955</td>\n",
       "      <td>1</td>\n",
       "      <td>2016-05-07 18:58:53</td>\n",
       "      <td>2016-05-07 19:12:05</td>\n",
       "      <td>1</td>\n",
       "      <td>-72.809669</td>\n",
       "      <td>51.881084</td>\n",
       "      <td>-73.987228</td>\n",
       "      <td>40.750599</td>\n",
       "      <td>N</td>\n",
       "      <td>792</td>\n",
       "      <td>792</td>\n",
       "    </tr>\n",
       "  </tbody>\n",
       "</table>\n",
       "</div>"
      ],
      "text/plain": [
       "               id  vendor_id     pickup_datetime    dropoff_datetime  \\\n",
       "244913  id2306955          1 2016-05-07 18:58:53 2016-05-07 19:12:05   \n",
       "\n",
       "        passenger_count  pickup_longitude  pickup_latitude  dropoff_longitude  \\\n",
       "244913                1        -72.809669        51.881084         -73.987228   \n",
       "\n",
       "        dropoff_latitude store_and_fwd_flag  trip_duration  time_taken_trip  \n",
       "244913         40.750599                  N            792              792  "
      ]
     },
     "execution_count": 33,
     "metadata": {},
     "output_type": "execute_result"
    }
   ],
   "source": [
    "data_nyc[data_nyc['pickup_latitude']==data_nyc['pickup_latitude'].max()]"
   ]
  },
  {
   "cell_type": "code",
   "execution_count": 34,
   "metadata": {},
   "outputs": [
    {
     "data": {
      "text/plain": [
       "vendor_id              1.000000\n",
       "passenger_count        0.000000\n",
       "pickup_longitude    -121.933342\n",
       "pickup_latitude       34.712234\n",
       "dropoff_longitude   -121.933304\n",
       "dropoff_latitude      32.181141\n",
       "trip_duration          1.000000\n",
       "time_taken_trip        1.000000\n",
       "dtype: float64"
      ]
     },
     "execution_count": 34,
     "metadata": {},
     "output_type": "execute_result"
    }
   ],
   "source": [
    "data_nyc[numerical_colum].min()"
   ]
  },
  {
   "cell_type": "code",
   "execution_count": 35,
   "metadata": {},
   "outputs": [
    {
     "data": {
      "text/plain": [
       "vendor_id            2.000000e+00\n",
       "passenger_count      9.000000e+00\n",
       "pickup_longitude    -6.589738e+01\n",
       "pickup_latitude      5.188108e+01\n",
       "dropoff_longitude   -6.589738e+01\n",
       "dropoff_latitude     4.392103e+01\n",
       "trip_duration        1.939736e+06\n",
       "time_taken_trip      1.939736e+06\n",
       "dtype: float64"
      ]
     },
     "execution_count": 35,
     "metadata": {},
     "output_type": "execute_result"
    }
   ],
   "source": [
    "data_nyc[numerical_colum].max()"
   ]
  },
  {
   "cell_type": "markdown",
   "metadata": {},
   "source": [
    "1. Minimum trip durations is 0 second \n",
    "2. Maximum trip duration is 1939736 second\n",
    "3. Minimum passager count is 0 \n",
    "4. Maximum passager count is 9\n",
    "5. Minimum pickup_longitude is -121.933342\n",
    "6. Maximum pickup_longitude is  -65.897385\n",
    "7. Minimum pickup_latitude is  34.712234\n",
    "8. Maximum pickup_latitude is  51.881084\n",
    "\n"
   ]
  },
  {
   "cell_type": "markdown",
   "metadata": {},
   "source": [
    "We also observed that there are only two vendor id which means two vendors are providing the taxi to NYC\n",
    "We also obseved that there are no deviation of secords between actual variable (trip_duration) vs derived variable(time_taken_trip).Hence concluded to drop time_taken_trip and deviation columns "
   ]
  },
  {
   "cell_type": "code",
   "execution_count": 36,
   "metadata": {},
   "outputs": [
    {
     "data": {
      "text/plain": [
       "id                    0\n",
       "vendor_id             0\n",
       "pickup_datetime       0\n",
       "dropoff_datetime      0\n",
       "passenger_count       0\n",
       "pickup_longitude      0\n",
       "pickup_latitude       0\n",
       "dropoff_longitude     0\n",
       "dropoff_latitude      0\n",
       "store_and_fwd_flag    0\n",
       "trip_duration         0\n",
       "time_taken_trip       0\n",
       "dtype: int64"
      ]
     },
     "execution_count": 36,
     "metadata": {},
     "output_type": "execute_result"
    }
   ],
   "source": [
    "# Now checking if amy null/missing value present in numerical columms \n",
    "data_nyc.isnull().sum()"
   ]
  },
  {
   "cell_type": "code",
   "execution_count": 37,
   "metadata": {},
   "outputs": [
    {
     "data": {
      "text/plain": [
       "id                    0\n",
       "vendor_id             0\n",
       "pickup_datetime       0\n",
       "dropoff_datetime      0\n",
       "passenger_count       0\n",
       "pickup_longitude      0\n",
       "pickup_latitude       0\n",
       "dropoff_longitude     0\n",
       "dropoff_latitude      0\n",
       "store_and_fwd_flag    0\n",
       "trip_duration         0\n",
       "time_taken_trip       0\n",
       "dtype: int64"
      ]
     },
     "execution_count": 37,
     "metadata": {},
     "output_type": "execute_result"
    }
   ],
   "source": [
    "data_nyc.isna().sum()"
   ]
  },
  {
   "cell_type": "code",
   "execution_count": 38,
   "metadata": {},
   "outputs": [
    {
     "data": {
      "text/plain": [
       "(729322, 12)"
      ]
     },
     "execution_count": 38,
     "metadata": {},
     "output_type": "execute_result"
    }
   ],
   "source": [
    "data_nyc.shape"
   ]
  },
  {
   "cell_type": "markdown",
   "metadata": {},
   "source": [
    "Hence we obersved that no missing values in all the columns ."
   ]
  },
  {
   "cell_type": "code",
   "execution_count": 39,
   "metadata": {},
   "outputs": [
    {
     "data": {
      "text/html": [
       "<div>\n",
       "<style scoped>\n",
       "    .dataframe tbody tr th:only-of-type {\n",
       "        vertical-align: middle;\n",
       "    }\n",
       "\n",
       "    .dataframe tbody tr th {\n",
       "        vertical-align: top;\n",
       "    }\n",
       "\n",
       "    .dataframe thead th {\n",
       "        text-align: right;\n",
       "    }\n",
       "</style>\n",
       "<table border=\"1\" class=\"dataframe\">\n",
       "  <thead>\n",
       "    <tr style=\"text-align: right;\">\n",
       "      <th></th>\n",
       "      <th>vendor_id</th>\n",
       "      <th>passenger_count</th>\n",
       "      <th>pickup_longitude</th>\n",
       "      <th>pickup_latitude</th>\n",
       "      <th>dropoff_longitude</th>\n",
       "      <th>dropoff_latitude</th>\n",
       "      <th>trip_duration</th>\n",
       "      <th>time_taken_trip</th>\n",
       "    </tr>\n",
       "  </thead>\n",
       "  <tbody>\n",
       "    <tr>\n",
       "      <th>count</th>\n",
       "      <td>729322.000000</td>\n",
       "      <td>729322.000000</td>\n",
       "      <td>729322.000000</td>\n",
       "      <td>729322.000000</td>\n",
       "      <td>729322.000000</td>\n",
       "      <td>729322.000000</td>\n",
       "      <td>7.293220e+05</td>\n",
       "      <td>7.293220e+05</td>\n",
       "    </tr>\n",
       "    <tr>\n",
       "      <th>mean</th>\n",
       "      <td>1.535403</td>\n",
       "      <td>1.662055</td>\n",
       "      <td>-73.973513</td>\n",
       "      <td>40.750919</td>\n",
       "      <td>-73.973422</td>\n",
       "      <td>40.751775</td>\n",
       "      <td>9.522291e+02</td>\n",
       "      <td>9.522291e+02</td>\n",
       "    </tr>\n",
       "    <tr>\n",
       "      <th>std</th>\n",
       "      <td>0.498745</td>\n",
       "      <td>1.312446</td>\n",
       "      <td>0.069754</td>\n",
       "      <td>0.033594</td>\n",
       "      <td>0.069588</td>\n",
       "      <td>0.036037</td>\n",
       "      <td>3.864626e+03</td>\n",
       "      <td>3.864626e+03</td>\n",
       "    </tr>\n",
       "    <tr>\n",
       "      <th>min</th>\n",
       "      <td>1.000000</td>\n",
       "      <td>0.000000</td>\n",
       "      <td>-121.933342</td>\n",
       "      <td>34.712234</td>\n",
       "      <td>-121.933304</td>\n",
       "      <td>32.181141</td>\n",
       "      <td>1.000000e+00</td>\n",
       "      <td>1.000000e+00</td>\n",
       "    </tr>\n",
       "    <tr>\n",
       "      <th>25%</th>\n",
       "      <td>1.000000</td>\n",
       "      <td>1.000000</td>\n",
       "      <td>-73.991859</td>\n",
       "      <td>40.737335</td>\n",
       "      <td>-73.991318</td>\n",
       "      <td>40.735931</td>\n",
       "      <td>3.970000e+02</td>\n",
       "      <td>3.970000e+02</td>\n",
       "    </tr>\n",
       "    <tr>\n",
       "      <th>50%</th>\n",
       "      <td>2.000000</td>\n",
       "      <td>1.000000</td>\n",
       "      <td>-73.981758</td>\n",
       "      <td>40.754070</td>\n",
       "      <td>-73.979759</td>\n",
       "      <td>40.754509</td>\n",
       "      <td>6.630000e+02</td>\n",
       "      <td>6.630000e+02</td>\n",
       "    </tr>\n",
       "    <tr>\n",
       "      <th>75%</th>\n",
       "      <td>2.000000</td>\n",
       "      <td>2.000000</td>\n",
       "      <td>-73.967361</td>\n",
       "      <td>40.768314</td>\n",
       "      <td>-73.963036</td>\n",
       "      <td>40.769741</td>\n",
       "      <td>1.075000e+03</td>\n",
       "      <td>1.075000e+03</td>\n",
       "    </tr>\n",
       "    <tr>\n",
       "      <th>max</th>\n",
       "      <td>2.000000</td>\n",
       "      <td>9.000000</td>\n",
       "      <td>-65.897385</td>\n",
       "      <td>51.881084</td>\n",
       "      <td>-65.897385</td>\n",
       "      <td>43.921028</td>\n",
       "      <td>1.939736e+06</td>\n",
       "      <td>1.939736e+06</td>\n",
       "    </tr>\n",
       "  </tbody>\n",
       "</table>\n",
       "</div>"
      ],
      "text/plain": [
       "           vendor_id  passenger_count  pickup_longitude  pickup_latitude  \\\n",
       "count  729322.000000    729322.000000     729322.000000    729322.000000   \n",
       "mean        1.535403         1.662055        -73.973513        40.750919   \n",
       "std         0.498745         1.312446          0.069754         0.033594   \n",
       "min         1.000000         0.000000       -121.933342        34.712234   \n",
       "25%         1.000000         1.000000        -73.991859        40.737335   \n",
       "50%         2.000000         1.000000        -73.981758        40.754070   \n",
       "75%         2.000000         2.000000        -73.967361        40.768314   \n",
       "max         2.000000         9.000000        -65.897385        51.881084   \n",
       "\n",
       "       dropoff_longitude  dropoff_latitude  trip_duration  time_taken_trip  \n",
       "count      729322.000000     729322.000000   7.293220e+05     7.293220e+05  \n",
       "mean          -73.973422         40.751775   9.522291e+02     9.522291e+02  \n",
       "std             0.069588          0.036037   3.864626e+03     3.864626e+03  \n",
       "min          -121.933304         32.181141   1.000000e+00     1.000000e+00  \n",
       "25%           -73.991318         40.735931   3.970000e+02     3.970000e+02  \n",
       "50%           -73.979759         40.754509   6.630000e+02     6.630000e+02  \n",
       "75%           -73.963036         40.769741   1.075000e+03     1.075000e+03  \n",
       "max           -65.897385         43.921028   1.939736e+06     1.939736e+06  "
      ]
     },
     "execution_count": 39,
     "metadata": {},
     "output_type": "execute_result"
    }
   ],
   "source": [
    "# checking the summary( various descriptive statistics ) of all the numerical columms \n",
    "data_nyc.describe(include=[int,float])"
   ]
  },
  {
   "cell_type": "code",
   "execution_count": 40,
   "metadata": {},
   "outputs": [
    {
     "data": {
      "text/plain": [
       "952.2291333594764"
      ]
     },
     "execution_count": 40,
     "metadata": {},
     "output_type": "execute_result"
    }
   ],
   "source": [
    "# checking the avarage travel duration of each trip as well as avarage passanger count of each time \n",
    "data_nyc.trip_duration.mean()"
   ]
  },
  {
   "cell_type": "code",
   "execution_count": 41,
   "metadata": {},
   "outputs": [
    {
     "data": {
      "text/plain": [
       "1.6620546205928246"
      ]
     },
     "execution_count": 41,
     "metadata": {},
     "output_type": "execute_result"
    }
   ],
   "source": [
    "data_nyc.passenger_count.mean()"
   ]
  },
  {
   "cell_type": "code",
   "execution_count": 42,
   "metadata": {},
   "outputs": [],
   "source": [
    "# Droping the colmns that was created earlier to validate the trip_duration variable values .\n",
    "data_nyc=data_nyc.drop(['time_taken_trip'],axis=1)"
   ]
  },
  {
   "cell_type": "code",
   "execution_count": 43,
   "metadata": {},
   "outputs": [
    {
     "data": {
      "text/plain": [
       "id                            object\n",
       "vendor_id                      int64\n",
       "pickup_datetime       datetime64[ns]\n",
       "dropoff_datetime      datetime64[ns]\n",
       "passenger_count                int64\n",
       "pickup_longitude             float64\n",
       "pickup_latitude              float64\n",
       "dropoff_longitude            float64\n",
       "dropoff_latitude             float64\n",
       "store_and_fwd_flag          category\n",
       "trip_duration                  int64\n",
       "dtype: object"
      ]
     },
     "execution_count": 43,
     "metadata": {},
     "output_type": "execute_result"
    }
   ],
   "source": [
    "data_nyc.dtypes"
   ]
  },
  {
   "cell_type": "code",
   "execution_count": 44,
   "metadata": {},
   "outputs": [
    {
     "data": {
      "text/html": [
       "<div>\n",
       "<style scoped>\n",
       "    .dataframe tbody tr th:only-of-type {\n",
       "        vertical-align: middle;\n",
       "    }\n",
       "\n",
       "    .dataframe tbody tr th {\n",
       "        vertical-align: top;\n",
       "    }\n",
       "\n",
       "    .dataframe thead th {\n",
       "        text-align: right;\n",
       "    }\n",
       "</style>\n",
       "<table border=\"1\" class=\"dataframe\">\n",
       "  <thead>\n",
       "    <tr style=\"text-align: right;\">\n",
       "      <th></th>\n",
       "      <th>pickup_datetime</th>\n",
       "      <th>dropoff_datetime</th>\n",
       "    </tr>\n",
       "  </thead>\n",
       "  <tbody>\n",
       "    <tr>\n",
       "      <th>0</th>\n",
       "      <td>2016-02-29 16:40:21</td>\n",
       "      <td>2016-02-29 16:47:01</td>\n",
       "    </tr>\n",
       "    <tr>\n",
       "      <th>1</th>\n",
       "      <td>2016-03-11 23:35:37</td>\n",
       "      <td>2016-03-11 23:53:57</td>\n",
       "    </tr>\n",
       "    <tr>\n",
       "      <th>2</th>\n",
       "      <td>2016-02-21 17:59:33</td>\n",
       "      <td>2016-02-21 18:26:48</td>\n",
       "    </tr>\n",
       "    <tr>\n",
       "      <th>3</th>\n",
       "      <td>2016-01-05 09:44:31</td>\n",
       "      <td>2016-01-05 10:03:32</td>\n",
       "    </tr>\n",
       "    <tr>\n",
       "      <th>4</th>\n",
       "      <td>2016-02-17 06:42:23</td>\n",
       "      <td>2016-02-17 06:56:31</td>\n",
       "    </tr>\n",
       "    <tr>\n",
       "      <th>...</th>\n",
       "      <td>...</td>\n",
       "      <td>...</td>\n",
       "    </tr>\n",
       "    <tr>\n",
       "      <th>729317</th>\n",
       "      <td>2016-05-21 13:29:38</td>\n",
       "      <td>2016-05-21 13:34:34</td>\n",
       "    </tr>\n",
       "    <tr>\n",
       "      <th>729318</th>\n",
       "      <td>2016-02-22 00:43:11</td>\n",
       "      <td>2016-02-22 00:48:26</td>\n",
       "    </tr>\n",
       "    <tr>\n",
       "      <th>729319</th>\n",
       "      <td>2016-04-15 18:56:48</td>\n",
       "      <td>2016-04-15 19:08:01</td>\n",
       "    </tr>\n",
       "    <tr>\n",
       "      <th>729320</th>\n",
       "      <td>2016-06-19 09:50:47</td>\n",
       "      <td>2016-06-19 09:58:14</td>\n",
       "    </tr>\n",
       "    <tr>\n",
       "      <th>729321</th>\n",
       "      <td>2016-01-01 17:24:16</td>\n",
       "      <td>2016-01-01 17:44:40</td>\n",
       "    </tr>\n",
       "  </tbody>\n",
       "</table>\n",
       "<p>729322 rows × 2 columns</p>\n",
       "</div>"
      ],
      "text/plain": [
       "           pickup_datetime    dropoff_datetime\n",
       "0      2016-02-29 16:40:21 2016-02-29 16:47:01\n",
       "1      2016-03-11 23:35:37 2016-03-11 23:53:57\n",
       "2      2016-02-21 17:59:33 2016-02-21 18:26:48\n",
       "3      2016-01-05 09:44:31 2016-01-05 10:03:32\n",
       "4      2016-02-17 06:42:23 2016-02-17 06:56:31\n",
       "...                    ...                 ...\n",
       "729317 2016-05-21 13:29:38 2016-05-21 13:34:34\n",
       "729318 2016-02-22 00:43:11 2016-02-22 00:48:26\n",
       "729319 2016-04-15 18:56:48 2016-04-15 19:08:01\n",
       "729320 2016-06-19 09:50:47 2016-06-19 09:58:14\n",
       "729321 2016-01-01 17:24:16 2016-01-01 17:44:40\n",
       "\n",
       "[729322 rows x 2 columns]"
      ]
     },
     "execution_count": 44,
     "metadata": {},
     "output_type": "execute_result"
    }
   ],
   "source": [
    "data_nyc[['pickup_datetime','dropoff_datetime']]\n"
   ]
  },
  {
   "cell_type": "markdown",
   "metadata": {},
   "source": [
    "Extracting new colums from pickup_datetime and pickup_datetime"
   ]
  },
  {
   "cell_type": "markdown",
   "metadata": {},
   "source": [
    "checking the extracted colum from dates field"
   ]
  },
  {
   "cell_type": "code",
   "execution_count": 45,
   "metadata": {},
   "outputs": [],
   "source": [
    "data_nyc['pickup_datetime'] = pd.to_datetime(data_nyc['pickup_datetime'])\n",
    "data_nyc['dropoff_datetime'] = pd.to_datetime(data_nyc['dropoff_datetime'])"
   ]
  },
  {
   "cell_type": "code",
   "execution_count": 46,
   "metadata": {},
   "outputs": [],
   "source": [
    "data_nyc['pickup_datetime_dayOfWeek'] = data_nyc['pickup_datetime'].dt.day_name()\n",
    "data_nyc['pickup_datetime_month'] = data_nyc['pickup_datetime'].dt.month_name()\n",
    "data_nyc['pickup_datetime_week'] = data_nyc['pickup_datetime'].dt.isocalendar().week\n",
    "data_nyc['pickup_datetime_year'] = data_nyc['pickup_datetime'].dt.year\n",
    "data_nyc['pickup_datetime_hour'] = data_nyc['pickup_datetime'].dt.hour\n",
    "data_nyc['dropoff_datetime_dayOfWeek'] = data_nyc['dropoff_datetime'].dt.day_name()\n",
    "data_nyc['dropoff_datetime_month'] = data_nyc['dropoff_datetime'].dt.month_name()\n",
    "data_nyc['dropoff_datetime_week'] = data_nyc['dropoff_datetime'].dt.isocalendar().week\n",
    "data_nyc['dropoff_datetimeyear'] = data_nyc['dropoff_datetime'].dt.year\n",
    "data_nyc['dropoff_datetime_hour'] = data_nyc['dropoff_datetime'].dt.hour"
   ]
  },
  {
   "cell_type": "code",
   "execution_count": 47,
   "metadata": {},
   "outputs": [
    {
     "data": {
      "text/html": [
       "<div>\n",
       "<style scoped>\n",
       "    .dataframe tbody tr th:only-of-type {\n",
       "        vertical-align: middle;\n",
       "    }\n",
       "\n",
       "    .dataframe tbody tr th {\n",
       "        vertical-align: top;\n",
       "    }\n",
       "\n",
       "    .dataframe thead th {\n",
       "        text-align: right;\n",
       "    }\n",
       "</style>\n",
       "<table border=\"1\" class=\"dataframe\">\n",
       "  <thead>\n",
       "    <tr style=\"text-align: right;\">\n",
       "      <th></th>\n",
       "      <th>pickup_datetime</th>\n",
       "      <th>pickup_datetime_dayOfWeek</th>\n",
       "      <th>pickup_datetime_month</th>\n",
       "      <th>pickup_datetime_week</th>\n",
       "      <th>pickup_datetime_year</th>\n",
       "      <th>pickup_datetime_hour</th>\n",
       "    </tr>\n",
       "  </thead>\n",
       "  <tbody>\n",
       "    <tr>\n",
       "      <th>0</th>\n",
       "      <td>2016-02-29 16:40:21</td>\n",
       "      <td>Monday</td>\n",
       "      <td>February</td>\n",
       "      <td>9</td>\n",
       "      <td>2016</td>\n",
       "      <td>16</td>\n",
       "    </tr>\n",
       "    <tr>\n",
       "      <th>1</th>\n",
       "      <td>2016-03-11 23:35:37</td>\n",
       "      <td>Friday</td>\n",
       "      <td>March</td>\n",
       "      <td>10</td>\n",
       "      <td>2016</td>\n",
       "      <td>23</td>\n",
       "    </tr>\n",
       "    <tr>\n",
       "      <th>2</th>\n",
       "      <td>2016-02-21 17:59:33</td>\n",
       "      <td>Sunday</td>\n",
       "      <td>February</td>\n",
       "      <td>7</td>\n",
       "      <td>2016</td>\n",
       "      <td>17</td>\n",
       "    </tr>\n",
       "    <tr>\n",
       "      <th>3</th>\n",
       "      <td>2016-01-05 09:44:31</td>\n",
       "      <td>Tuesday</td>\n",
       "      <td>January</td>\n",
       "      <td>1</td>\n",
       "      <td>2016</td>\n",
       "      <td>9</td>\n",
       "    </tr>\n",
       "    <tr>\n",
       "      <th>4</th>\n",
       "      <td>2016-02-17 06:42:23</td>\n",
       "      <td>Wednesday</td>\n",
       "      <td>February</td>\n",
       "      <td>7</td>\n",
       "      <td>2016</td>\n",
       "      <td>6</td>\n",
       "    </tr>\n",
       "  </tbody>\n",
       "</table>\n",
       "</div>"
      ],
      "text/plain": [
       "      pickup_datetime pickup_datetime_dayOfWeek pickup_datetime_month  \\\n",
       "0 2016-02-29 16:40:21                    Monday              February   \n",
       "1 2016-03-11 23:35:37                    Friday                 March   \n",
       "2 2016-02-21 17:59:33                    Sunday              February   \n",
       "3 2016-01-05 09:44:31                   Tuesday               January   \n",
       "4 2016-02-17 06:42:23                 Wednesday              February   \n",
       "\n",
       "   pickup_datetime_week  pickup_datetime_year  pickup_datetime_hour  \n",
       "0                     9                  2016                    16  \n",
       "1                    10                  2016                    23  \n",
       "2                     7                  2016                    17  \n",
       "3                     1                  2016                     9  \n",
       "4                     7                  2016                     6  "
      ]
     },
     "execution_count": 47,
     "metadata": {},
     "output_type": "execute_result"
    }
   ],
   "source": [
    "data_nyc[['pickup_datetime','pickup_datetime_dayOfWeek','pickup_datetime_month','pickup_datetime_week','pickup_datetime_year','pickup_datetime_hour']].head()"
   ]
  },
  {
   "cell_type": "code",
   "execution_count": 48,
   "metadata": {},
   "outputs": [
    {
     "data": {
      "text/html": [
       "<div>\n",
       "<style scoped>\n",
       "    .dataframe tbody tr th:only-of-type {\n",
       "        vertical-align: middle;\n",
       "    }\n",
       "\n",
       "    .dataframe tbody tr th {\n",
       "        vertical-align: top;\n",
       "    }\n",
       "\n",
       "    .dataframe thead th {\n",
       "        text-align: right;\n",
       "    }\n",
       "</style>\n",
       "<table border=\"1\" class=\"dataframe\">\n",
       "  <thead>\n",
       "    <tr style=\"text-align: right;\">\n",
       "      <th></th>\n",
       "      <th>dropoff_datetime</th>\n",
       "      <th>dropoff_datetime_dayOfWeek</th>\n",
       "      <th>dropoff_datetime_month</th>\n",
       "      <th>dropoff_datetimeyear</th>\n",
       "      <th>dropoff_datetime_week</th>\n",
       "      <th>dropoff_datetime_hour</th>\n",
       "    </tr>\n",
       "  </thead>\n",
       "  <tbody>\n",
       "    <tr>\n",
       "      <th>0</th>\n",
       "      <td>2016-02-29 16:47:01</td>\n",
       "      <td>Monday</td>\n",
       "      <td>February</td>\n",
       "      <td>2016</td>\n",
       "      <td>9</td>\n",
       "      <td>16</td>\n",
       "    </tr>\n",
       "    <tr>\n",
       "      <th>1</th>\n",
       "      <td>2016-03-11 23:53:57</td>\n",
       "      <td>Friday</td>\n",
       "      <td>March</td>\n",
       "      <td>2016</td>\n",
       "      <td>10</td>\n",
       "      <td>23</td>\n",
       "    </tr>\n",
       "    <tr>\n",
       "      <th>2</th>\n",
       "      <td>2016-02-21 18:26:48</td>\n",
       "      <td>Sunday</td>\n",
       "      <td>February</td>\n",
       "      <td>2016</td>\n",
       "      <td>7</td>\n",
       "      <td>18</td>\n",
       "    </tr>\n",
       "    <tr>\n",
       "      <th>3</th>\n",
       "      <td>2016-01-05 10:03:32</td>\n",
       "      <td>Tuesday</td>\n",
       "      <td>January</td>\n",
       "      <td>2016</td>\n",
       "      <td>1</td>\n",
       "      <td>10</td>\n",
       "    </tr>\n",
       "    <tr>\n",
       "      <th>4</th>\n",
       "      <td>2016-02-17 06:56:31</td>\n",
       "      <td>Wednesday</td>\n",
       "      <td>February</td>\n",
       "      <td>2016</td>\n",
       "      <td>7</td>\n",
       "      <td>6</td>\n",
       "    </tr>\n",
       "  </tbody>\n",
       "</table>\n",
       "</div>"
      ],
      "text/plain": [
       "     dropoff_datetime dropoff_datetime_dayOfWeek dropoff_datetime_month  \\\n",
       "0 2016-02-29 16:47:01                     Monday               February   \n",
       "1 2016-03-11 23:53:57                     Friday                  March   \n",
       "2 2016-02-21 18:26:48                     Sunday               February   \n",
       "3 2016-01-05 10:03:32                    Tuesday                January   \n",
       "4 2016-02-17 06:56:31                  Wednesday               February   \n",
       "\n",
       "   dropoff_datetimeyear  dropoff_datetime_week  dropoff_datetime_hour  \n",
       "0                  2016                      9                     16  \n",
       "1                  2016                     10                     23  \n",
       "2                  2016                      7                     18  \n",
       "3                  2016                      1                     10  \n",
       "4                  2016                      7                      6  "
      ]
     },
     "execution_count": 48,
     "metadata": {},
     "output_type": "execute_result"
    }
   ],
   "source": [
    "data_nyc[['dropoff_datetime','dropoff_datetime_dayOfWeek','dropoff_datetime_month','dropoff_datetimeyear','dropoff_datetime_week','dropoff_datetime_hour']].head()"
   ]
  },
  {
   "cell_type": "code",
   "execution_count": 49,
   "metadata": {},
   "outputs": [
    {
     "name": "stderr",
     "output_type": "stream",
     "text": [
      "/Users/728389/opt/anaconda3/lib/python3.8/site-packages/seaborn/distributions.py:1659: FutureWarning: The `bw` parameter is deprecated in favor of `bw_method` and `bw_adjust`. Using 3 for `bw_method`, but please see the docs for the new parameters and update your code.\n",
      "  warnings.warn(msg, FutureWarning)\n"
     ]
    },
    {
     "data": {
      "text/plain": [
       "<AxesSubplot:xlabel='trip_duration', ylabel='Density'>"
      ]
     },
     "execution_count": 49,
     "metadata": {},
     "output_type": "execute_result"
    },
    {
     "data": {
      "image/png": "[encoded data removed]",
      "text/plain": [
       "<Figure size 480x320 with 1 Axes>"
      ]
     },
     "metadata": {
      "needs_background": "light"
     },
     "output_type": "display_data"
    }
   ],
   "source": [
    "#KDE plot for trip druration\n",
    "plt.figure(dpi=80)\n",
    "sns.kdeplot(data_nyc['trip_duration'],bw=3)"
   ]
  },
  {
   "cell_type": "markdown",
   "metadata": {},
   "source": [
    "Trip duration clear shows that it has right skewd, so lets find out the outliears "
   ]
  },
  {
   "cell_type": "code",
   "execution_count": 50,
   "metadata": {},
   "outputs": [
    {
     "name": "stderr",
     "output_type": "stream",
     "text": [
      "/Users/728389/opt/anaconda3/lib/python3.8/site-packages/seaborn/_decorators.py:36: FutureWarning: Pass the following variable as a keyword arg: x. From version 0.12, the only valid positional argument will be `data`, and passing other arguments without an explicit keyword will result in an error or misinterpretation.\n",
      "  warnings.warn(\n"
     ]
    },
    {
     "data": {
      "text/plain": [
       "<AxesSubplot:xlabel='trip_duration'>"
      ]
     },
     "execution_count": 50,
     "metadata": {},
     "output_type": "execute_result"
    },
    {
     "data": {
      "image/png": "[encoded data removed]",
      "text/plain": [
       "<Figure size 432x288 with 1 Axes>"
      ]
     },
     "metadata": {
      "needs_background": "light"
     },
     "output_type": "display_data"
    }
   ],
   "source": [
    "sns.boxplot(data_nyc['trip_duration'], orient='horizontal')"
   ]
  },
  {
   "cell_type": "code",
   "execution_count": 51,
   "metadata": {},
   "outputs": [
    {
     "data": {
      "image/png": "[encoded data removed]",
      "text/plain": [
       "<Figure size 1080x288 with 2 Axes>"
      ]
     },
     "metadata": {
      "needs_background": "light"
     },
     "output_type": "display_data"
    }
   ],
   "source": [
    "#Creting barplot to observed the drop off and pick up months based on the drop offand pick ups time .\n",
    "figure,ax=plt.subplots(nrows=1,ncols=2,figsize=(15,4))\n",
    "bins = [0,25,50,75,100]\n",
    "sns.histplot(x='pickup_datetime_month',data=data_nyc,ax=ax[0],bins=[0,25,50,75,100])\n",
    "ax[0].set_title('The distribution of number of pickups each month')\n",
    "sns.histplot(x='dropoff_datetime_month',data=data_nyc,ax=ax[1],bins=[0,25,50,75,100])\n",
    "ax[1].set_title('The distribution of number of dropoffs each month')\n",
    "plt.tight_layout()"
   ]
  },
  {
   "cell_type": "code",
   "execution_count": 52,
   "metadata": {},
   "outputs": [
    {
     "data": {
      "image/png": "[encoded data removed]",
      "text/plain": [
       "<Figure size 1440x432 with 2 Axes>"
      ]
     },
     "metadata": {
      "needs_background": "light"
     },
     "output_type": "display_data"
    }
   ],
   "source": [
    "#Creting histogram to observed the drop off dayOfWeek and pick up dayOfWeek \n",
    "figure,ax=plt.subplots(nrows=1,ncols=2,figsize=(20,6))\n",
    "bins = [0,25,50,75,100]\n",
    "sns.histplot(x='pickup_datetime_dayOfWeek',data=data_nyc,ax=ax[0],bins=[0,25,50,75,100])\n",
    "ax[0].set_title('The distribution of number of pickups each day')\n",
    "sns.histplot(x='dropoff_datetime_dayOfWeek',data=data_nyc,ax=ax[1],bins=[0,25,50,75,100])\n",
    "ax[1].set_title('The distribution of number of dropoffs each day')\n",
    "plt.tight_layout()"
   ]
  },
  {
   "cell_type": "code",
   "execution_count": 53,
   "metadata": {},
   "outputs": [
    {
     "data": {
      "image/png": "[encoded data removed]",
      "text/plain": [
       "<Figure size 1080x288 with 2 Axes>"
      ]
     },
     "metadata": {
      "needs_background": "light"
     },
     "output_type": "display_data"
    }
   ],
   "source": [
    "#Creting histogram to observed the drop off hour and pick up hour \n",
    "figure,ax=plt.subplots(nrows=1,ncols=2,figsize=(15,4))\n",
    "sns.countplot(x='pickup_datetime_hour',data=data_nyc,ax=ax[0])\n",
    "ax[0].set_title('The distribution of number of pickups each hour')\n",
    "sns.countplot(x='dropoff_datetime_hour',data=data_nyc,ax=ax[1])\n",
    "ax[1].set_title('The distribution of number of dropoffs each hour')\n",
    "plt.tight_layout()"
   ]
  },
  {
   "cell_type": "markdown",
   "metadata": {},
   "source": [
    "observation :\n",
    " - there are nothing much difference in pick up and drop off time . \n",
    " - Pick up and drop off hours are at their pick on 18th & 19th hours of a day which means 6 PM and 7 PM \n",
    " - Pick up and drop off hrs is lesser duing 4th and 5th hours of day which means less booking is happening at 4 and 5 AM monring.\n",
    " -  Most of the trip is happening on Friday ."
   ]
  },
  {
   "cell_type": "code",
   "execution_count": 54,
   "metadata": {},
   "outputs": [
    {
     "data": {
      "text/plain": [
       "<AxesSubplot:xlabel='vendor_id', ylabel='count'>"
      ]
     },
     "execution_count": 54,
     "metadata": {},
     "output_type": "execute_result"
    },
    {
     "data": {
      "image/png": "[encoded data removed]",
      "text/plain": [
       "<Figure size 432x288 with 1 Axes>"
      ]
     },
     "metadata": {
      "needs_background": "light"
     },
     "output_type": "display_data"
    }
   ],
   "source": [
    "#Distibution of vendor_id\n",
    "sns.countplot(data=data_nyc,x='vendor_id')"
   ]
  },
  {
   "cell_type": "code",
   "execution_count": 55,
   "metadata": {},
   "outputs": [
    {
     "data": {
      "text/plain": [
       "<AxesSubplot:xlabel='vendor_id', ylabel='pickup_datetime_hour'>"
      ]
     },
     "execution_count": 55,
     "metadata": {},
     "output_type": "execute_result"
    },
    {
     "data": {
      "image/png": "[encoded data removed]",
      "text/plain": [
       "<Figure size 432x288 with 1 Axes>"
      ]
     },
     "metadata": {
      "needs_background": "light"
     },
     "output_type": "display_data"
    }
   ],
   "source": [
    "# Now check which vendor has done more trip(pick up)\n",
    "fig = plt.figure(figsize = (6,4))\n",
    "sns.barplot(data=data_nyc,x='vendor_id',y='pickup_datetime_hour')"
   ]
  },
  {
   "cell_type": "code",
   "execution_count": 56,
   "metadata": {},
   "outputs": [
    {
     "data": {
      "text/plain": [
       "<AxesSubplot:xlabel='vendor_id', ylabel='dropoff_datetime_hour'>"
      ]
     },
     "execution_count": 56,
     "metadata": {},
     "output_type": "execute_result"
    },
    {
     "data": {
      "image/png": "[encoded data removed]",
      "text/plain": [
       "<Figure size 432x360 with 1 Axes>"
      ]
     },
     "metadata": {
      "needs_background": "light"
     },
     "output_type": "display_data"
    }
   ],
   "source": [
    "# Now check which vendor has done more trip(drop off)\n",
    "fig = plt.figure(figsize = (6, 5))\n",
    "sns.barplot(data=data_nyc,x='vendor_id',y='dropoff_datetime_hour')"
   ]
  },
  {
   "cell_type": "markdown",
   "metadata": {},
   "source": [
    "obsv:\n",
    "    - there are nothing much differnce between two vendor"
   ]
  },
  {
   "cell_type": "markdown",
   "metadata": {},
   "source": [
    "Now lets understand the longitute and latitue of NYC city \n",
    "As per my reserch from internet , the \n",
    "New York City, NY, USA Lat Long Coordinates Info\n",
    "The latitude of New York City, NY, USA is 40.730610, and the longitude is -73.935242. New York City, NY, USA is located at United States country in the Cities place category with the gps coordinates of 40° 43' 50.1960'' N and 73° 56' 6.8712'' W.\n",
    "Latitude: 40.730610\n",
    "Longitude: -73.935242\n",
    "    \n",
    "lets us 1st try to limit the travel into NewYork city     "
   ]
  },
  {
   "cell_type": "code",
   "execution_count": 57,
   "metadata": {},
   "outputs": [
    {
     "name": "stdout",
     "output_type": "stream",
     "text": [
      "min_pickup_longitude -121.93334197998048\n",
      "max_pickup_longitude -65.89738464355469\n",
      "min_pickup_latitude 34.71223449707032\n",
      "max_pickup_latitude 51.88108444213867\n",
      "min_dropoff_longitude -121.9333038330078\n",
      "max_dropoff_longitude -65.89738464355469\n",
      "min_dropoff_latitude 32.181140899658196\n",
      "max_dropoff_latitude 43.92102813720703\n"
     ]
    }
   ],
   "source": [
    "print('min_pickup_longitude', data_nyc['pickup_longitude'].min())\n",
    "print('max_pickup_longitude', data_nyc['pickup_longitude'].max())\n",
    "print('min_pickup_latitude', data_nyc['pickup_latitude'].min())\n",
    "print('max_pickup_latitude', data_nyc['pickup_latitude'].max())\n",
    "print('min_dropoff_longitude', data_nyc['dropoff_longitude'].min())\n",
    "print('max_dropoff_longitude', data_nyc['dropoff_longitude'].max())\n",
    "print('min_dropoff_latitude', data_nyc['dropoff_latitude'].min())\n",
    "print('max_dropoff_latitude', data_nyc['dropoff_latitude'].max())"
   ]
  },
  {
   "cell_type": "code",
   "execution_count": 58,
   "metadata": {},
   "outputs": [],
   "source": [
    "#consolidate all the ditance colum \n",
    "distance_cols = ['pickup_latitude','pickup_longitude','dropoff_latitude','dropoff_longitude']"
   ]
  },
  {
   "cell_type": "code",
   "execution_count": 63,
   "metadata": {},
   "outputs": [],
   "source": [
    "# Logic to get the distance \n",
    "from math import radians, sin, cos, sqrt, asin\n",
    "def coordinates(columns):\n",
    "    \n",
    "    lati1, longi1, lati2, longi2 = columns \n",
    "    R = 6372.8 # Earth radius in kilometers\n",
    "    \n",
    "    dLati = radians(lati2 - lati1)\n",
    "    dLongi = radians(longi2 - longi1)\n",
    "    lati1 = radians(lati1)\n",
    "    lati2 = radians(lati2)\n",
    "    \n",
    "    a = sin(dLati/2)**2 + cos(lati1)*cos(lati2)*sin(dLongi/2)**2\n",
    "    c = 2*asin(sqrt(a))\n",
    "    \n",
    "    return R * c\n",
    "\n",
    "distances = data_nyc[distance_cols].apply(lambda x: coordinates(x),axis = 1)\n",
    "data_nyc['distance_km'] = distances.copy()\n"
   ]
  },
  {
   "cell_type": "code",
   "execution_count": 60,
   "metadata": {},
   "outputs": [
    {
     "data": {
      "text/plain": [
       "<AxesSubplot:xlabel='distance_km', ylabel='trip_duration'>"
      ]
     },
     "execution_count": 60,
     "metadata": {},
     "output_type": "execute_result"
    },
    {
     "data": {
      "image/png": "[encoded data removed]",
      "text/plain": [
       "<Figure size 432x288 with 1 Axes>"
      ]
     },
     "metadata": {
      "needs_background": "light"
     },
     "output_type": "display_data"
    }
   ],
   "source": [
    "sns.scatterplot(x='distance_km',y='trip_duration',data=data_nyc)"
   ]
  },
  {
   "cell_type": "code",
   "execution_count": 61,
   "metadata": {},
   "outputs": [
    {
     "data": {
      "text/plain": [
       "0.0"
      ]
     },
     "execution_count": 61,
     "metadata": {},
     "output_type": "execute_result"
    }
   ],
   "source": [
    "\n",
    "data_nyc['distance_km'].min()\n"
   ]
  },
  {
   "cell_type": "code",
   "execution_count": 62,
   "metadata": {},
   "outputs": [],
   "source": [
    "#Minimum distance does not help us as it is same as no drive or cancelation of trip\n",
    "# so lets remove all the distance =0\n",
    "data_nyc = data_nyc[data_nyc['distance_km'] > 0]\n",
    "\n"
   ]
  },
  {
   "cell_type": "code",
   "execution_count": 63,
   "metadata": {},
   "outputs": [
    {
     "data": {
      "text/plain": [
       "<AxesSubplot:xlabel='distance_km', ylabel='trip_duration'>"
      ]
     },
     "execution_count": 63,
     "metadata": {},
     "output_type": "execute_result"
    },
    {
     "data": {
      "image/png": "[encoded data removed]",
      "text/plain": [
       "<Figure size 432x288 with 1 Axes>"
      ]
     },
     "metadata": {
      "needs_background": "light"
     },
     "output_type": "display_data"
    }
   ],
   "source": [
    "sns.scatterplot(x='distance_km',y='trip_duration',data=data_nyc)"
   ]
  },
  {
   "cell_type": "markdown",
   "metadata": {},
   "source": [
    "Looks like some outliers in trip duration and distance . This might be travel happened beyond NYCITY.\n",
    "Lets keep the trip with in the NY longtiute and latitute ."
   ]
  },
  {
   "cell_type": "code",
   "execution_count": 122,
   "metadata": {},
   "outputs": [],
   "source": [
    "data_nyc = data_nyc[data_nyc['pickup_longitude'] <= --73.93]\n",
    "data_nyc = data_nyc[data_nyc['pickup_longitude'] >= -74.00]\n",
    "data_nyc = data_nyc[data_nyc['pickup_latitude'] <= 40.73]\n",
    "data_nyc = data_nyc[data_nyc['pickup_latitude'] >= 40.63]\n",
    "data_nyc = data_nyc[data_nyc['dropoff_longitude'] <= -73.93]\n",
    "data_nyc = data_nyc[data_nyc['dropoff_longitude'] >= -74.00]\n",
    "data_nyc = data_nyc[data_nyc['dropoff_latitude'] <= 40.73]\n",
    "data_nyc = data_nyc[data_nyc['dropoff_latitude'] >= 40.63]"
   ]
  },
  {
   "cell_type": "code",
   "execution_count": 123,
   "metadata": {},
   "outputs": [],
   "source": [
    "# now calculate the distance again \n",
    "# Logic to get the distance \n",
    "from math import radians, sin, cos, sqrt, asin\n",
    "def coordinates(columns):\n",
    "    \n",
    "    lati1, longi1, lati2, longi2 = columns \n",
    "    R = 6372.8 # Earth radius in kilometers\n",
    "    \n",
    "    dLati = radians(lati2 - lati1)\n",
    "    dLongi = radians(longi2 - longi1)\n",
    "    lati1 = radians(lati1)\n",
    "    lati2 = radians(lati2)\n",
    "    \n",
    "    a = sin(dLati/2)**2 + cos(lati1)*cos(lati2)*sin(dLongi/2)**2\n",
    "    c = 2*asin(sqrt(a))\n",
    "    \n",
    "    return R * c\n",
    "\n",
    "distances = data_nyc[distance_cols].apply(lambda x: coordinates(x),axis = 1)\n",
    "data_nyc['distance_km'] = distances.copy()\n"
   ]
  },
  {
   "cell_type": "code",
   "execution_count": 124,
   "metadata": {},
   "outputs": [
    {
     "data": {
      "text/plain": [
       "<AxesSubplot:xlabel='distance_km', ylabel='trip_duration'>"
      ]
     },
     "execution_count": 124,
     "metadata": {},
     "output_type": "execute_result"
    },
    {
     "data": {
      "image/png": "[encoded data removed]",
      "text/plain": [
       "<Figure size 432x288 with 1 Axes>"
      ]
     },
     "metadata": {
      "needs_background": "light"
     },
     "output_type": "display_data"
    }
   ],
   "source": [
    "sns.scatterplot(x='distance_km',y='trip_duration',data=data_nyc)"
   ]
  },
  {
   "cell_type": "code",
   "execution_count": 125,
   "metadata": {},
   "outputs": [],
   "source": [
    "#We can observed a lot of trip druation is beyond 2hours seconds\n",
    "# lets omit them\n",
    "data_nyc=data_nyc[data_nyc['trip_duration']<=7200]"
   ]
  },
  {
   "cell_type": "code",
   "execution_count": 126,
   "metadata": {},
   "outputs": [
    {
     "data": {
      "text/plain": [
       "<AxesSubplot:xlabel='distance_km', ylabel='trip_duration'>"
      ]
     },
     "execution_count": 126,
     "metadata": {},
     "output_type": "execute_result"
    },
    {
     "data": {
      "image/png": "[encoded data removed]",
      "text/plain": [
       "<Figure size 432x288 with 1 Axes>"
      ]
     },
     "metadata": {
      "needs_background": "light"
     },
     "output_type": "display_data"
    }
   ],
   "source": [
    "sns.scatterplot(x='distance_km',y='trip_duration',data=data_nyc)"
   ]
  },
  {
   "cell_type": "code",
   "execution_count": 127,
   "metadata": {},
   "outputs": [],
   "source": [
    "# Lets calulate the speed in Km/hr\n",
    "data_nyc['speed_km/h']= 3600*(data_nyc.distance_km/data_nyc.trip_duration)  "
   ]
  },
  {
   "cell_type": "code",
   "execution_count": 128,
   "metadata": {},
   "outputs": [
    {
     "data": {
      "text/plain": [
       "42    11.686523\n",
       "65     9.537680\n",
       "68    16.985047\n",
       "97    12.209709\n",
       "99    15.446283\n",
       "Name: speed_km/h, dtype: float64"
      ]
     },
     "execution_count": 128,
     "metadata": {},
     "output_type": "execute_result"
    }
   ],
   "source": [
    "data_nyc['speed_km/h'].head()"
   ]
  },
  {
   "cell_type": "code",
   "execution_count": 129,
   "metadata": {},
   "outputs": [
    {
     "data": {
      "text/plain": [
       "<AxesSubplot:xlabel='distance_km', ylabel='speed_km/h'>"
      ]
     },
     "execution_count": 129,
     "metadata": {},
     "output_type": "execute_result"
    },
    {
     "data": {
      "image/png": "[encoded data removed]",
      "text/plain": [
       "<Figure size 432x288 with 1 Axes>"
      ]
     },
     "metadata": {
      "needs_background": "light"
     },
     "output_type": "display_data"
    }
   ],
   "source": [
    "sns.scatterplot(x='distance_km',y='speed_km/h',data=data_nyc)"
   ]
  },
  {
   "cell_type": "code",
   "execution_count": 130,
   "metadata": {},
   "outputs": [],
   "source": [
    "#As per US standard lets keep US speed limit to 80 km/h as well as 1 km/h drive doens not make sense \n",
    "data_nyc=data_nyc[data_nyc['speed_km/h'] >0]\n",
    "data_nyc=data_nyc[data_nyc['speed_km/h'] <=100]\n"
   ]
  },
  {
   "cell_type": "code",
   "execution_count": 131,
   "metadata": {},
   "outputs": [
    {
     "data": {
      "text/plain": [
       "<AxesSubplot:xlabel='distance_km', ylabel='speed_km/h'>"
      ]
     },
     "execution_count": 131,
     "metadata": {},
     "output_type": "execute_result"
    },
    {
     "data": {
      "image/png": "[encoded data removed]",
      "text/plain": [
       "<Figure size 432x288 with 1 Axes>"
      ]
     },
     "metadata": {
      "needs_background": "light"
     },
     "output_type": "display_data"
    }
   ],
   "source": [
    "sns.scatterplot(x='distance_km',y='speed_km/h',data=data_nyc)"
   ]
  },
  {
   "cell_type": "code",
   "execution_count": 132,
   "metadata": {},
   "outputs": [
    {
     "data": {
      "text/plain": [
       "Text(0.5, 1.0, 'Trip Distribution')"
      ]
     },
     "execution_count": 132,
     "metadata": {},
     "output_type": "execute_result"
    },
    {
     "data": {
      "image/png": "[encoded data removed]",
      "text/plain": [
       "<Figure size 720x576 with 1 Axes>"
      ]
     },
     "metadata": {
      "needs_background": "light"
     },
     "output_type": "display_data"
    }
   ],
   "source": [
    "plt.figure(figsize=(10,8))\n",
    "sns.histplot(data_nyc.trip_duration)\n",
    "plt.xlabel('Trip_duration')\n",
    "plt.ylabel('Number of Trips')\n",
    "plt.title('Trip Distribution')\n",
    "\n"
   ]
  },
  {
   "cell_type": "code",
   "execution_count": 133,
   "metadata": {},
   "outputs": [
    {
     "data": {
      "text/plain": [
       "Text(0.5, 1.0, 'Trip Distribution')"
      ]
     },
     "execution_count": 133,
     "metadata": {},
     "output_type": "execute_result"
    },
    {
     "data": {
      "image/png": "[encoded data removed]",
      "text/plain": [
       "<Figure size 720x576 with 1 Axes>"
      ]
     },
     "metadata": {
      "needs_background": "light"
     },
     "output_type": "display_data"
    }
   ],
   "source": [
    "plt.figure(figsize=(10,8))\n",
    "sns.kdeplot(data_nyc.trip_duration)\n",
    "plt.xlabel('Trip_duration')\n",
    "plt.ylabel('Number of Trips')\n",
    "plt.title('Trip Distribution')\n"
   ]
  },
  {
   "cell_type": "markdown",
   "metadata": {},
   "source": [
    "This distibution has right skewed , So apply log transfomartion to make it normal "
   ]
  },
  {
   "cell_type": "code",
   "execution_count": 134,
   "metadata": {},
   "outputs": [
    {
     "data": {
      "image/png": "[encoded data removed]",
      "text/plain": [
       "<Figure size 432x288 with 1 Axes>"
      ]
     },
     "metadata": {
      "needs_background": "light"
     },
     "output_type": "display_data"
    },
    {
     "name": "stderr",
     "output_type": "stream",
     "text": [
      "/Users/728389/opt/anaconda3/lib/python3.8/site-packages/seaborn/distributions.py:2551: FutureWarning: `distplot` is a deprecated function and will be removed in a future version. Please adapt your code to use either `displot` (a figure-level function with similar flexibility) or `histplot` (an axes-level function for histograms).\n",
      "  warnings.warn(msg, FutureWarning)\n"
     ]
    },
    {
     "data": {
      "text/plain": [
       "<AxesSubplot:xlabel='log_trip_duration', ylabel='Density'>"
      ]
     },
     "execution_count": 134,
     "metadata": {},
     "output_type": "execute_result"
    },
    {
     "data": {
      "image/png": "[encoded data removed]",
      "text/plain": [
       "<Figure size 432x288 with 1 Axes>"
      ]
     },
     "metadata": {
      "needs_background": "light"
     },
     "output_type": "display_data"
    }
   ],
   "source": [
    "# Now lets normalize the data\n",
    "data_nyc['log_trip_duration']= np.log1p(data_nyc['trip_duration'])\n",
    "sns.kdeplot(data_nyc['log_trip_duration'].values)\n",
    "plt.title('Log Trip Distribution')\n",
    "plt.xlabel('log_trip_duration')\n",
    "plt.ylabel('Number of Trips')\n",
    "plt.show()\n",
    "sns.distplot(data_nyc[\"log_trip_duration\"], bins =100)"
   ]
  },
  {
   "cell_type": "code",
   "execution_count": 140,
   "metadata": {},
   "outputs": [
    {
     "data": {
      "text/plain": [
       "<AxesSubplot:xlabel='store_and_fwd_flag', ylabel='count'>"
      ]
     },
     "execution_count": 140,
     "metadata": {},
     "output_type": "execute_result"
    },
    {
     "data": {
      "image/png": "[encoded data removed]",
      "text/plain": [
       "<Figure size 432x288 with 1 Axes>"
      ]
     },
     "metadata": {
      "needs_background": "light"
     },
     "output_type": "display_data"
    }
   ],
   "source": [
    "# find out the trips which details are not records vs trips which details are records \n",
    "sns.countplot(data=data_nyc,x='store_and_fwd_flag')"
   ]
  },
  {
   "cell_type": "markdown",
   "metadata": {},
   "source": [
    "Here looks like store_and_fwd_flag= Y is very mininal and can be negligible."
   ]
  },
  {
   "cell_type": "code",
   "execution_count": null,
   "metadata": {},
   "outputs": [],
   "source": []
  }
 ],
 "metadata": {
  "kernelspec": {
   "display_name": "Python 3",
   "language": "python",
   "name": "python3"
  },
  "language_info": {
   "codemirror_mode": {
    "name": "ipython",
    "version": 3
   },
   "file_extension": ".py",
   "mimetype": "text/x-python",
   "name": "python",
   "nbconvert_exporter": "python",
   "pygments_lexer": "ipython3",
   "version": "3.8.5"
  }
 },
 "nbformat": 4,
 "nbformat_minor": 4
}
